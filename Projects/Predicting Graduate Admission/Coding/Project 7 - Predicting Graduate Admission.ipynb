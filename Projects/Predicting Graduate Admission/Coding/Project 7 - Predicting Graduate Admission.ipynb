{
 "cells": [
  {
   "cell_type": "markdown",
   "id": "dad1123a",
   "metadata": {},
   "source": [
    "# Henry Pham\n",
    "# Project 7 - Predicting Graduate Admission"
   ]
  },
  {
   "cell_type": "code",
   "execution_count": 1,
   "id": "f708681c",
   "metadata": {},
   "outputs": [],
   "source": [
    "# ---- Project 7 ----"
   ]
  },
  {
   "cell_type": "markdown",
   "id": "f22a3c39",
   "metadata": {},
   "source": [
    "## Introduction"
   ]
  },
  {
   "cell_type": "code",
   "execution_count": 2,
   "id": "990a3964",
   "metadata": {},
   "outputs": [],
   "source": [
    "# The objective of this project is to develop a precise and dependable predictive model for forecasting graduate admission outcomes, \n",
    "# assisting educational institutions, prospective students, and admissions committees in the selection process. \n",
    "# Accurate predictions of graduate admission provide valuable insights for universities and candidates, \n",
    "# enabling data-driven decision-making and optimizing the admissions process. \n",
    "# By leveraging predictive analytics and historical admissions data, this project aims to streamline the graduate admission process \n",
    "# and enhance transparency for all stakeholders."
   ]
  },
  {
   "cell_type": "markdown",
   "id": "e3beab30",
   "metadata": {},
   "source": [
    "## Data Sources"
   ]
  },
  {
   "cell_type": "code",
   "execution_count": 3,
   "id": "f0b674a0",
   "metadata": {},
   "outputs": [],
   "source": [
    "# GraduateAddission: https://www.kaggle.com/datasets/mohansacharya/graduate-admissions"
   ]
  },
  {
   "cell_type": "markdown",
   "id": "32b56372",
   "metadata": {},
   "source": [
    "## Required Libraries"
   ]
  },
  {
   "cell_type": "code",
   "execution_count": 4,
   "id": "1e034276",
   "metadata": {},
   "outputs": [],
   "source": [
    "# matplotlib: data visualization library for Python, widely used in data analysis, scientific research, engineering, and visualization tasks.\n",
    "# numpy: numerical computations and data manipulation in Python.\n",
    "# pandas: data manipulation, preprocessing, cleaning, transformation, exploration, and visualization.\n",
    "# seaborn: a Python data visualization, widely used in data analysis, statistical modeling, and exploratory data analysis tasks.\n",
    "# scikit-learn: also known as sklearn, provides an efficient framework for various machine learning tasks, such as classification, regression, clustering, dimensionality reduction, model selection, and preprocessing.\n",
    "# scipy: a library for scientific computing in Python, provided a collection of mathematical algorithms and functionality such as optimization, interpolation, integration, linear algebra, signal processing, and statistics\n",
    "# sqldf: a Python library that provides a SQL-like interface for querying pandas DataFrames using SQL syntax."
   ]
  },
  {
   "cell_type": "markdown",
   "id": "3aa5085f",
   "metadata": {},
   "source": [
    "## Get Graduate Admission Data"
   ]
  },
  {
   "cell_type": "code",
   "execution_count": 5,
   "id": "f8e4a0c5",
   "metadata": {},
   "outputs": [],
   "source": [
    "# Import few libraries\n",
    "import pandas as pd\n",
    "import numpy as np\n",
    "import seaborn as sns\n",
    "import matplotlib.pyplot as plt\n",
    "import warnings\n",
    "warnings.filterwarnings('ignore')"
   ]
  },
  {
   "cell_type": "code",
   "execution_count": 6,
   "id": "af858cd8",
   "metadata": {},
   "outputs": [],
   "source": [
    "# Read csv file using pandas\n",
    "df = pd.read_csv('C:\\\\DSC680\\\\PracticeMachineLearning\\\\Admission_Predict.csv')"
   ]
  },
  {
   "cell_type": "markdown",
   "id": "3d34c3db",
   "metadata": {},
   "source": [
    "## Data Cleaning"
   ]
  },
  {
   "cell_type": "code",
   "execution_count": 7,
   "id": "827acbcd",
   "metadata": {},
   "outputs": [
    {
     "data": {
      "text/html": [
       "<div>\n",
       "<style scoped>\n",
       "    .dataframe tbody tr th:only-of-type {\n",
       "        vertical-align: middle;\n",
       "    }\n",
       "\n",
       "    .dataframe tbody tr th {\n",
       "        vertical-align: top;\n",
       "    }\n",
       "\n",
       "    .dataframe thead th {\n",
       "        text-align: right;\n",
       "    }\n",
       "</style>\n",
       "<table border=\"1\" class=\"dataframe\">\n",
       "  <thead>\n",
       "    <tr style=\"text-align: right;\">\n",
       "      <th></th>\n",
       "      <th>Serial No.</th>\n",
       "      <th>GRE Score</th>\n",
       "      <th>TOEFL Score</th>\n",
       "      <th>University Rating</th>\n",
       "      <th>SOP</th>\n",
       "      <th>LOR</th>\n",
       "      <th>CGPA</th>\n",
       "      <th>Research</th>\n",
       "      <th>Chance of Admit</th>\n",
       "    </tr>\n",
       "  </thead>\n",
       "  <tbody>\n",
       "    <tr>\n",
       "      <th>0</th>\n",
       "      <td>1</td>\n",
       "      <td>337</td>\n",
       "      <td>118</td>\n",
       "      <td>4</td>\n",
       "      <td>4.5</td>\n",
       "      <td>4.5</td>\n",
       "      <td>9.65</td>\n",
       "      <td>1</td>\n",
       "      <td>0.92</td>\n",
       "    </tr>\n",
       "    <tr>\n",
       "      <th>1</th>\n",
       "      <td>2</td>\n",
       "      <td>324</td>\n",
       "      <td>107</td>\n",
       "      <td>4</td>\n",
       "      <td>4.0</td>\n",
       "      <td>4.5</td>\n",
       "      <td>8.87</td>\n",
       "      <td>1</td>\n",
       "      <td>0.76</td>\n",
       "    </tr>\n",
       "    <tr>\n",
       "      <th>2</th>\n",
       "      <td>3</td>\n",
       "      <td>316</td>\n",
       "      <td>104</td>\n",
       "      <td>3</td>\n",
       "      <td>3.0</td>\n",
       "      <td>3.5</td>\n",
       "      <td>8.00</td>\n",
       "      <td>1</td>\n",
       "      <td>0.72</td>\n",
       "    </tr>\n",
       "    <tr>\n",
       "      <th>3</th>\n",
       "      <td>4</td>\n",
       "      <td>322</td>\n",
       "      <td>110</td>\n",
       "      <td>3</td>\n",
       "      <td>3.5</td>\n",
       "      <td>2.5</td>\n",
       "      <td>8.67</td>\n",
       "      <td>1</td>\n",
       "      <td>0.80</td>\n",
       "    </tr>\n",
       "    <tr>\n",
       "      <th>4</th>\n",
       "      <td>5</td>\n",
       "      <td>314</td>\n",
       "      <td>103</td>\n",
       "      <td>2</td>\n",
       "      <td>2.0</td>\n",
       "      <td>3.0</td>\n",
       "      <td>8.21</td>\n",
       "      <td>0</td>\n",
       "      <td>0.65</td>\n",
       "    </tr>\n",
       "  </tbody>\n",
       "</table>\n",
       "</div>"
      ],
      "text/plain": [
       "   Serial No.  GRE Score  TOEFL Score  University Rating  SOP  LOR   CGPA  \\\n",
       "0           1        337          118                  4  4.5   4.5  9.65   \n",
       "1           2        324          107                  4  4.0   4.5  8.87   \n",
       "2           3        316          104                  3  3.0   3.5  8.00   \n",
       "3           4        322          110                  3  3.5   2.5  8.67   \n",
       "4           5        314          103                  2  2.0   3.0  8.21   \n",
       "\n",
       "   Research  Chance of Admit   \n",
       "0         1              0.92  \n",
       "1         1              0.76  \n",
       "2         1              0.72  \n",
       "3         1              0.80  \n",
       "4         0              0.65  "
      ]
     },
     "execution_count": 7,
     "metadata": {},
     "output_type": "execute_result"
    }
   ],
   "source": [
    "# Show few records\n",
    "df.head()"
   ]
  },
  {
   "cell_type": "markdown",
   "id": "3c2eb2df",
   "metadata": {},
   "source": [
    "## Find shape of the dataset "
   ]
  },
  {
   "cell_type": "code",
   "execution_count": 8,
   "id": "f82bd508",
   "metadata": {},
   "outputs": [
    {
     "data": {
      "text/plain": [
       "(400, 9)"
      ]
     },
     "execution_count": 8,
     "metadata": {},
     "output_type": "execute_result"
    }
   ],
   "source": [
    "# Retrieve the dimensions of a DataFrame df\n",
    "df.shape"
   ]
  },
  {
   "cell_type": "code",
   "execution_count": 9,
   "id": "e2c86b52",
   "metadata": {},
   "outputs": [
    {
     "name": "stdout",
     "output_type": "stream",
     "text": [
      "Number of Rows 400\n",
      "Number of Columns 9\n"
     ]
    }
   ],
   "source": [
    "print(\"Number of Rows\",df.shape[0])\n",
    "print(\"Number of Columns\",df.shape[1])"
   ]
  },
  {
   "cell_type": "markdown",
   "id": "6828cfbf",
   "metadata": {},
   "source": [
    "## Get information About the dataset"
   ]
  },
  {
   "cell_type": "code",
   "execution_count": 10,
   "id": "648d7057",
   "metadata": {},
   "outputs": [
    {
     "name": "stdout",
     "output_type": "stream",
     "text": [
      "<class 'pandas.core.frame.DataFrame'>\n",
      "RangeIndex: 400 entries, 0 to 399\n",
      "Data columns (total 9 columns):\n",
      " #   Column             Non-Null Count  Dtype  \n",
      "---  ------             --------------  -----  \n",
      " 0   Serial No.         400 non-null    int64  \n",
      " 1   GRE Score          400 non-null    int64  \n",
      " 2   TOEFL Score        400 non-null    int64  \n",
      " 3   University Rating  400 non-null    int64  \n",
      " 4   SOP                400 non-null    float64\n",
      " 5   LOR                400 non-null    float64\n",
      " 6   CGPA               400 non-null    float64\n",
      " 7   Research           400 non-null    int64  \n",
      " 8   Chance of Admit    400 non-null    float64\n",
      "dtypes: float64(4), int64(5)\n",
      "memory usage: 28.3 KB\n"
     ]
    }
   ],
   "source": [
    "# Provide a concise summary of the DataFrame df, including information about the index, column data types, \n",
    "# non-null values, and memory usage.\n",
    "df.info()"
   ]
  },
  {
   "cell_type": "markdown",
   "id": "0e49826e",
   "metadata": {},
   "source": [
    "## Check missing values"
   ]
  },
  {
   "cell_type": "code",
   "execution_count": 11,
   "id": "7c5ccc8c",
   "metadata": {},
   "outputs": [
    {
     "data": {
      "text/plain": [
       "Serial No.           0\n",
       "GRE Score            0\n",
       "TOEFL Score          0\n",
       "University Rating    0\n",
       "SOP                  0\n",
       "LOR                  0\n",
       "CGPA                 0\n",
       "Research             0\n",
       "Chance of Admit      0\n",
       "dtype: int64"
      ]
     },
     "execution_count": 11,
     "metadata": {},
     "output_type": "execute_result"
    }
   ],
   "source": [
    "# Calculate the number of missing values (null values) in each column of the DataFrame df\n",
    "df.isnull().sum()"
   ]
  },
  {
   "cell_type": "code",
   "execution_count": 12,
   "id": "e78d12a9",
   "metadata": {},
   "outputs": [],
   "source": [
    "# There is no missing values in the dataset."
   ]
  },
  {
   "cell_type": "markdown",
   "id": "f5abbb65",
   "metadata": {},
   "source": [
    "## Check duplicates"
   ]
  },
  {
   "cell_type": "code",
   "execution_count": 13,
   "id": "7ae77f2b",
   "metadata": {},
   "outputs": [
    {
     "data": {
      "text/plain": [
       "0"
      ]
     },
     "execution_count": 13,
     "metadata": {},
     "output_type": "execute_result"
    }
   ],
   "source": [
    "# Count the number of duplicated rows in the DataFrame df\n",
    "df.duplicated().sum()"
   ]
  },
  {
   "cell_type": "code",
   "execution_count": 14,
   "id": "5240ccde",
   "metadata": {},
   "outputs": [],
   "source": [
    "# There is no duplicates"
   ]
  },
  {
   "cell_type": "markdown",
   "id": "2a6e63ac",
   "metadata": {},
   "source": [
    "## Get an overall stats summary"
   ]
  },
  {
   "cell_type": "code",
   "execution_count": 15,
   "id": "c35ad115",
   "metadata": {},
   "outputs": [
    {
     "data": {
      "text/html": [
       "<div>\n",
       "<style scoped>\n",
       "    .dataframe tbody tr th:only-of-type {\n",
       "        vertical-align: middle;\n",
       "    }\n",
       "\n",
       "    .dataframe tbody tr th {\n",
       "        vertical-align: top;\n",
       "    }\n",
       "\n",
       "    .dataframe thead th {\n",
       "        text-align: right;\n",
       "    }\n",
       "</style>\n",
       "<table border=\"1\" class=\"dataframe\">\n",
       "  <thead>\n",
       "    <tr style=\"text-align: right;\">\n",
       "      <th></th>\n",
       "      <th>Serial No.</th>\n",
       "      <th>GRE Score</th>\n",
       "      <th>TOEFL Score</th>\n",
       "      <th>University Rating</th>\n",
       "      <th>SOP</th>\n",
       "      <th>LOR</th>\n",
       "      <th>CGPA</th>\n",
       "      <th>Research</th>\n",
       "      <th>Chance of Admit</th>\n",
       "    </tr>\n",
       "  </thead>\n",
       "  <tbody>\n",
       "    <tr>\n",
       "      <th>count</th>\n",
       "      <td>400.000000</td>\n",
       "      <td>400.000000</td>\n",
       "      <td>400.000000</td>\n",
       "      <td>400.000000</td>\n",
       "      <td>400.000000</td>\n",
       "      <td>400.000000</td>\n",
       "      <td>400.000000</td>\n",
       "      <td>400.000000</td>\n",
       "      <td>400.000000</td>\n",
       "    </tr>\n",
       "    <tr>\n",
       "      <th>mean</th>\n",
       "      <td>200.500000</td>\n",
       "      <td>316.807500</td>\n",
       "      <td>107.410000</td>\n",
       "      <td>3.087500</td>\n",
       "      <td>3.400000</td>\n",
       "      <td>3.452500</td>\n",
       "      <td>8.598925</td>\n",
       "      <td>0.547500</td>\n",
       "      <td>0.724350</td>\n",
       "    </tr>\n",
       "    <tr>\n",
       "      <th>std</th>\n",
       "      <td>115.614301</td>\n",
       "      <td>11.473646</td>\n",
       "      <td>6.069514</td>\n",
       "      <td>1.143728</td>\n",
       "      <td>1.006869</td>\n",
       "      <td>0.898478</td>\n",
       "      <td>0.596317</td>\n",
       "      <td>0.498362</td>\n",
       "      <td>0.142609</td>\n",
       "    </tr>\n",
       "    <tr>\n",
       "      <th>min</th>\n",
       "      <td>1.000000</td>\n",
       "      <td>290.000000</td>\n",
       "      <td>92.000000</td>\n",
       "      <td>1.000000</td>\n",
       "      <td>1.000000</td>\n",
       "      <td>1.000000</td>\n",
       "      <td>6.800000</td>\n",
       "      <td>0.000000</td>\n",
       "      <td>0.340000</td>\n",
       "    </tr>\n",
       "    <tr>\n",
       "      <th>25%</th>\n",
       "      <td>100.750000</td>\n",
       "      <td>308.000000</td>\n",
       "      <td>103.000000</td>\n",
       "      <td>2.000000</td>\n",
       "      <td>2.500000</td>\n",
       "      <td>3.000000</td>\n",
       "      <td>8.170000</td>\n",
       "      <td>0.000000</td>\n",
       "      <td>0.640000</td>\n",
       "    </tr>\n",
       "    <tr>\n",
       "      <th>50%</th>\n",
       "      <td>200.500000</td>\n",
       "      <td>317.000000</td>\n",
       "      <td>107.000000</td>\n",
       "      <td>3.000000</td>\n",
       "      <td>3.500000</td>\n",
       "      <td>3.500000</td>\n",
       "      <td>8.610000</td>\n",
       "      <td>1.000000</td>\n",
       "      <td>0.730000</td>\n",
       "    </tr>\n",
       "    <tr>\n",
       "      <th>75%</th>\n",
       "      <td>300.250000</td>\n",
       "      <td>325.000000</td>\n",
       "      <td>112.000000</td>\n",
       "      <td>4.000000</td>\n",
       "      <td>4.000000</td>\n",
       "      <td>4.000000</td>\n",
       "      <td>9.062500</td>\n",
       "      <td>1.000000</td>\n",
       "      <td>0.830000</td>\n",
       "    </tr>\n",
       "    <tr>\n",
       "      <th>max</th>\n",
       "      <td>400.000000</td>\n",
       "      <td>340.000000</td>\n",
       "      <td>120.000000</td>\n",
       "      <td>5.000000</td>\n",
       "      <td>5.000000</td>\n",
       "      <td>5.000000</td>\n",
       "      <td>9.920000</td>\n",
       "      <td>1.000000</td>\n",
       "      <td>0.970000</td>\n",
       "    </tr>\n",
       "  </tbody>\n",
       "</table>\n",
       "</div>"
      ],
      "text/plain": [
       "       Serial No.   GRE Score  TOEFL Score  University Rating         SOP  \\\n",
       "count  400.000000  400.000000   400.000000         400.000000  400.000000   \n",
       "mean   200.500000  316.807500   107.410000           3.087500    3.400000   \n",
       "std    115.614301   11.473646     6.069514           1.143728    1.006869   \n",
       "min      1.000000  290.000000    92.000000           1.000000    1.000000   \n",
       "25%    100.750000  308.000000   103.000000           2.000000    2.500000   \n",
       "50%    200.500000  317.000000   107.000000           3.000000    3.500000   \n",
       "75%    300.250000  325.000000   112.000000           4.000000    4.000000   \n",
       "max    400.000000  340.000000   120.000000           5.000000    5.000000   \n",
       "\n",
       "             LOR         CGPA    Research  Chance of Admit   \n",
       "count  400.000000  400.000000  400.000000        400.000000  \n",
       "mean     3.452500    8.598925    0.547500          0.724350  \n",
       "std      0.898478    0.596317    0.498362          0.142609  \n",
       "min      1.000000    6.800000    0.000000          0.340000  \n",
       "25%      3.000000    8.170000    0.000000          0.640000  \n",
       "50%      3.500000    8.610000    1.000000          0.730000  \n",
       "75%      4.000000    9.062500    1.000000          0.830000  \n",
       "max      5.000000    9.920000    1.000000          0.970000  "
      ]
     },
     "execution_count": 15,
     "metadata": {},
     "output_type": "execute_result"
    }
   ],
   "source": [
    "# Generate descriptive statistics of the numerical columns in a DataFrame.\n",
    "df.describe()"
   ]
  },
  {
   "cell_type": "markdown",
   "id": "b68c88c6",
   "metadata": {},
   "source": [
    "## Drop features that are not useful"
   ]
  },
  {
   "cell_type": "code",
   "execution_count": 16,
   "id": "93aef1b7",
   "metadata": {},
   "outputs": [],
   "source": [
    "# SerialNo - It does not provide any meaningful information related to the target variable.\n",
    "df = df.drop('Serial No.',axis=1)"
   ]
  },
  {
   "cell_type": "code",
   "execution_count": 17,
   "id": "f54ff5df",
   "metadata": {},
   "outputs": [
    {
     "data": {
      "text/plain": [
       "Index(['GRE Score', 'TOEFL Score', 'University Rating', 'SOP', 'LOR ', 'CGPA',\n",
       "       'Research', 'Chance of Admit '],\n",
       "      dtype='object')"
      ]
     },
     "execution_count": 17,
     "metadata": {},
     "output_type": "execute_result"
    }
   ],
   "source": [
    "df.columns"
   ]
  },
  {
   "cell_type": "markdown",
   "id": "88e2ab7e",
   "metadata": {},
   "source": [
    "## Outliers Detection"
   ]
  },
  {
   "cell_type": "code",
   "execution_count": 18,
   "id": "c7f1e7e9",
   "metadata": {},
   "outputs": [],
   "source": [
    "# Subset the data for the variable of GRE Score\n",
    "gre = df['GRE Score']"
   ]
  },
  {
   "cell_type": "code",
   "execution_count": 19,
   "id": "250751c8",
   "metadata": {},
   "outputs": [
    {
     "data": {
      "image/png": "[encoded data removed]",
      "text/plain": [
       "<Figure size 640x480 with 1 Axes>"
      ]
     },
     "metadata": {},
     "output_type": "display_data"
    }
   ],
   "source": [
    "# Import seaborn and matplotlib libraries\n",
    "import seaborn as sns\n",
    "import matplotlib.pyplot as plt\n",
    "\n",
    "# Boxplot of GRE score using seaborn\n",
    "sns.boxplot(gre, color='azure')\n",
    "\n",
    "# Add a title\n",
    "plt.title(\"Boxplot of GRE Score\")\n",
    "\n",
    "# Label the x and y axes\n",
    "plt.xlabel(\"Identify Outliers\")\n",
    "plt.ylabel(\"GRE Score\")\n",
    "\n",
    "# Show the plot\n",
    "plt.show()"
   ]
  },
  {
   "cell_type": "code",
   "execution_count": 20,
   "id": "70ca7678",
   "metadata": {},
   "outputs": [],
   "source": [
    "# I calculate the z-scores for each data point and determine if any values fall outside a certain threshold,\n",
    "# values that are more than a few standard deviations away from the mean can be considered outliers."
   ]
  },
  {
   "cell_type": "code",
   "execution_count": 21,
   "id": "e7fdb91f",
   "metadata": {},
   "outputs": [
    {
     "name": "stdout",
     "output_type": "stream",
     "text": [
      "Identified outliers:\n",
      "Series([], Name: GRE Score, dtype: int64)\n"
     ]
    }
   ],
   "source": [
    "# Calculate the mean, median, and standard deviation for GRE\n",
    "mean = gre.mean()\n",
    "median = gre.median()\n",
    "std = gre.std()\n",
    "# Define the threshold for outliers \n",
    "# which is set to more than 3 standard deviations away from the mean \n",
    "threshold = 3\n",
    "# Calculate the z-scores for each data point.\n",
    "# Subtracts the mean from each data point and then divides by the standard deviation to standardize the data.\n",
    "# Calculating the z-scores, I can determine how far each data point deviates from the mean in terms of standard deviations.\n",
    "# Positive z-scores indicate values above the mean, while negative z-scores indicate values below the mean.\n",
    "z_scores = (gre - mean) / std\n",
    "\n",
    "# Identify the outliers based on the threshold.\n",
    "# The abs() function is used to take the absolute value of each z-score, \n",
    "# ensuring that both positive and negative deviations from the mean are considered.\n",
    "# The resulting outliers are stored in the outliers variable, \n",
    "# which contains the subset of \"gre\" values that are identified as outliers \n",
    "# based on their z-scores exceeding the threshold of 3.\n",
    "outliers = gre[abs(z_scores) > threshold]\n",
    "\n",
    "# Print the identified outliers\n",
    "print(\"Identified outliers:\")\n",
    "print(outliers)"
   ]
  },
  {
   "cell_type": "code",
   "execution_count": 22,
   "id": "0f971428",
   "metadata": {},
   "outputs": [],
   "source": [
    "# There is no outliers for GRE score in the z-scores method."
   ]
  },
  {
   "cell_type": "code",
   "execution_count": 23,
   "id": "6589806e",
   "metadata": {},
   "outputs": [],
   "source": [
    "# Subset the data for the variable of Toefle Score\n",
    "toefl = df['TOEFL Score']"
   ]
  },
  {
   "cell_type": "code",
   "execution_count": 24,
   "id": "46700368",
   "metadata": {},
   "outputs": [
    {
     "data": {
      "image/png": "[encoded data removed]",
      "text/plain": [
       "<Figure size 640x480 with 1 Axes>"
      ]
     },
     "metadata": {},
     "output_type": "display_data"
    }
   ],
   "source": [
    "# Import seaborn and matplotlib libraries\n",
    "import seaborn as sns\n",
    "import matplotlib.pyplot as plt\n",
    "\n",
    "# Boxplot of GRE score using seaborn\n",
    "sns.boxplot(toefl, color='linen')\n",
    "\n",
    "# Add a title\n",
    "plt.title(\"Boxplot of TOEFL Score\")\n",
    "\n",
    "# Label the x and y axes\n",
    "plt.xlabel(\"Identify Outliers\")\n",
    "plt.ylabel(\"TOEFL Score\")\n",
    "\n",
    "# Show the plot\n",
    "plt.show()"
   ]
  },
  {
   "cell_type": "code",
   "execution_count": 25,
   "id": "f5e2b935",
   "metadata": {},
   "outputs": [
    {
     "name": "stdout",
     "output_type": "stream",
     "text": [
      "Identified outliers:\n",
      "Series([], Name: TOEFL Score, dtype: int64)\n"
     ]
    }
   ],
   "source": [
    "# Calculate the mean, median, and standard deviation for GRE\n",
    "mean = toefl.mean()\n",
    "median = toefl.median()\n",
    "std = toefl.std()\n",
    "# Define the threshold for outliers \n",
    "# which is set to more than 3 standard deviations away from the mean \n",
    "threshold = 3\n",
    "# Calculate the z-scores for each data point.\n",
    "# Subtracts the mean from each data point and then divides by the standard deviation to standardize the data.\n",
    "# Calculating the z-scores, I can determine how far each data point deviates from the mean in terms of standard deviations.\n",
    "# Positive z-scores indicate values above the mean, while negative z-scores indicate values below the mean.\n",
    "z_scores = (toefl - mean) / std\n",
    "\n",
    "# Identify the outliers based on the threshold.\n",
    "# The abs() function is used to take the absolute value of each z-score, \n",
    "# ensuring that both positive and negative deviations from the mean are considered.\n",
    "# The resulting outliers are stored in the outliers variable, \n",
    "# which contains the subset of \"toefl\" values that are identified as outliers \n",
    "# based on their z-scores exceeding the threshold of 3.\n",
    "outliers = toefl[abs(z_scores) > threshold]\n",
    "\n",
    "# Print the identified outliers\n",
    "print(\"Identified outliers:\")\n",
    "print(outliers)"
   ]
  },
  {
   "cell_type": "code",
   "execution_count": 26,
   "id": "816496ff",
   "metadata": {},
   "outputs": [],
   "source": [
    "# There is no outliers for toefle score in the z-scores method."
   ]
  },
  {
   "cell_type": "markdown",
   "id": "6d19ce65",
   "metadata": {},
   "source": [
    "## Correlation Heatmap"
   ]
  },
  {
   "cell_type": "code",
   "execution_count": 27,
   "id": "59ba0690",
   "metadata": {},
   "outputs": [
    {
     "data": {
      "text/plain": [
       "Index(['GRE Score', 'TOEFL Score', 'University Rating', 'SOP', 'LOR ', 'CGPA',\n",
       "       'Research', 'Chance of Admit '],\n",
       "      dtype='object')"
      ]
     },
     "execution_count": 27,
     "metadata": {},
     "output_type": "execute_result"
    }
   ],
   "source": [
    "df.columns"
   ]
  },
  {
   "cell_type": "code",
   "execution_count": 28,
   "id": "140d8bb4",
   "metadata": {},
   "outputs": [
    {
     "data": {
      "image/png": "[encoded data removed]",
      "text/plain": [
       "<Figure size 1000x800 with 2 Axes>"
      ]
     },
     "metadata": {},
     "output_type": "display_data"
    }
   ],
   "source": [
    "# Select numerical columns for correlation analysis\n",
    "numerical_columns = ['GRE Score', 'TOEFL Score', 'CGPA','Chance of Admit ']\n",
    "\n",
    "# Compute the correlation matrix\n",
    "correlation_matrix = df[numerical_columns].corr()\n",
    "\n",
    "# Create a heatmap to visualize the correlation matrix\n",
    "plt.figure(figsize=(10, 8))\n",
    "sns.heatmap(correlation_matrix, annot=True, cmap='coolwarm', fmt=\".2f\", linewidths=0.5)\n",
    "plt.title('Correlation Matrix of Numerical Variables')\n",
    "plt.show()"
   ]
  },
  {
   "cell_type": "code",
   "execution_count": 29,
   "id": "18ae88a8",
   "metadata": {},
   "outputs": [],
   "source": [
    "# The heatmap helps to identify the relationships and dependencies between variables. \n",
    "# Positive correlations are indicated by red, while negative correlations are indicated by blue/light blue color. \n",
    "# The correlation coefficients displayed on the heatmap provide a numerical measure of the strength and direction of the correlations.\n",
    "\n",
    "# The correlation between Admit and GRE is positive, meaning, the chance of admitted is likely as the GRE score increases.\n",
    "# The correlation between Admit and Toefl is positive, meaning, the chance of admitted is likely as the Toefl score increases.\n",
    "# The correlation between Admit and CGPA is positive, meaning, the chance of admitted is likely as the CGPA score increases.\n"
   ]
  },
  {
   "cell_type": "markdown",
   "id": "a2e54cd0",
   "metadata": {},
   "source": [
    "## Scatter Plot Admit Vs. GRE Score"
   ]
  },
  {
   "cell_type": "code",
   "execution_count": 30,
   "id": "573dcba4",
   "metadata": {},
   "outputs": [],
   "source": [
    "# Subset the data for the variables of interest \n",
    "amit = df['Chance of Admit ']\n",
    "gre = df['GRE Score']"
   ]
  },
  {
   "cell_type": "code",
   "execution_count": 31,
   "id": "9effc4df",
   "metadata": {},
   "outputs": [
    {
     "data": {
      "image/png": "[encoded data removed]",
      "text/plain": [
       "<Figure size 640x480 with 1 Axes>"
      ]
     },
     "metadata": {},
     "output_type": "display_data"
    }
   ],
   "source": [
    "# Import matplotlib library\n",
    "import matplotlib.pyplot as plt\n",
    "\n",
    "# Admit Vs. GRE\n",
    "# Admit represents the x-axis values, and GRE represents the y-axis values. \n",
    "# Each data point is represented as a single point on the plot, \n",
    "# where the x-coordinate corresponds to the Admit, and the y-coordinate corresponds to the GRE.\n",
    "plt.scatter(amit, gre, color='g')\n",
    "# Set the label for the x-axis as \"Admit\"\n",
    "plt.xlabel('Chance of Admit')\n",
    "# Set the label for the y-axis as \"GRE.\"\n",
    "plt.ylabel('GRE Score')\n",
    "# Set the title of the scatter plot as \"Admit vs. GRE.\"\n",
    "plt.title('Chance of Admit vs. GRE Score')\n",
    "# Display the plot\n",
    "plt.show()"
   ]
  },
  {
   "cell_type": "markdown",
   "id": "319e63d4",
   "metadata": {},
   "source": [
    "## Scatter Plot Admit Vs. Toefl Score"
   ]
  },
  {
   "cell_type": "code",
   "execution_count": 32,
   "id": "a2c60db6",
   "metadata": {},
   "outputs": [],
   "source": [
    "# Subset the data for the variables of interest \n",
    "amit = df['Chance of Admit ']\n",
    "toefl = df['TOEFL Score']"
   ]
  },
  {
   "cell_type": "code",
   "execution_count": 33,
   "id": "e9b48f6d",
   "metadata": {},
   "outputs": [
    {
     "data": {
      "image/png": "[encoded data removed]",
      "text/plain": [
       "<Figure size 640x480 with 1 Axes>"
      ]
     },
     "metadata": {},
     "output_type": "display_data"
    }
   ],
   "source": [
    "# Import matplotlib library\n",
    "import matplotlib.pyplot as plt\n",
    "\n",
    "# Admit Vs. TOEFL\n",
    "# Admit represents the x-axis values, and TOEFL represents the y-axis values. \n",
    "# Each data point is represented as a single point on the plot, \n",
    "# where the x-coordinate corresponds to the Admit, and the y-coordinate corresponds to the TOEFL.\n",
    "plt.scatter(amit, toefl, color='r')\n",
    "# Set the label for the x-axis as \"Admit\"\n",
    "plt.xlabel('Chance of Admit')\n",
    "# Set the label for the y-axis as \"toefl.\"\n",
    "plt.ylabel('TOEFL Score')\n",
    "# Set the title of the scatter plot as \"Admit vs. toefl.\"\n",
    "plt.title('Chance of Admit vs. TOEFL Score')\n",
    "# Display the plot\n",
    "plt.show()"
   ]
  },
  {
   "cell_type": "markdown",
   "id": "7b42184b",
   "metadata": {},
   "source": [
    "## Analyze their relationships"
   ]
  },
  {
   "cell_type": "code",
   "execution_count": 34,
   "id": "101a947b",
   "metadata": {},
   "outputs": [
    {
     "name": "stdout",
     "output_type": "stream",
     "text": [
      "Admit and GRE: Covariance = 1.31, Pearson's Correlation = 0.80\n",
      "Admit and Toefl: Covariance = 0.69, Pearson's Correlation = 0.79\n"
     ]
    }
   ],
   "source": [
    "# Import few libraries\n",
    "import pandas as pd\n",
    "import numpy as np\n",
    "\n",
    "# Calculate the covariance and Pearson's correlation coefficients for the two pairs of variables.\n",
    "\n",
    "# This line calculates the covariance between the Admit and GRE variables using the cov() function from NumPy. \n",
    "# The cov() function returns a covariance matrix, and I select the value at index [0][1] \n",
    "# to obtain the covariance between the two variables.\n",
    "admit_gre_cov = np.cov(amit,gre)[0][1]\n",
    "\n",
    "# This line calculates the Pearson's correlation coefficient between the Admit and GRE variables \n",
    "# using the corrcoef() function from NumPy. \n",
    "# The corrcoef() function returns a correlation matrix, and I select the value at index [0][1] \n",
    "# to obtain the correlation coefficient between the two variables.\n",
    "admit_gre_corr = np.corrcoef(amit, gre)[0][1]\n",
    "\n",
    "# This line calculates the covariance between the Admit and Toefl variables in the same way as explained above.\n",
    "admit_toefl_cov = np.cov(amit, toefl)[0][1]\n",
    "\n",
    "# This line calculates the Pearson's correlation coefficient between the SPY and \n",
    "# Inflation variables in the same way as explained above.\n",
    "admit_toefl_corr = np.corrcoef(amit, toefl)[0][1]\n",
    "\n",
    "\n",
    "\n",
    "# Print the covariance and Pearson's correlation coefficients\n",
    "print(f'Admit and GRE: Covariance = {admit_gre_cov:.2f}, Pearson\\'s Correlation = {admit_gre_corr:.2f}')\n",
    "print(f'Admit and Toefl: Covariance = {admit_toefl_cov:.2f}, Pearson\\'s Correlation = {admit_toefl_corr:.2f}')"
   ]
  },
  {
   "cell_type": "code",
   "execution_count": 35,
   "id": "53e633bc",
   "metadata": {},
   "outputs": [],
   "source": [
    "# Covariance measures the linear relationship between two variables and provides information about \n",
    "# the direction and magnitude of their association. A positive covariance indicates a positive relationship, \n",
    "# while a negative covariance indicates a negative relationship.\n",
    "\n",
    "# Pearson's correlation coefficient is a standardized measure of the linear relationship between two variables. \n",
    "# It ranges from -1 to +1, with values closer to +1 indicating a strong positive correlation, \n",
    "# values closer to -1 indicating a strong negative correlation, \n",
    "# and values close to 0 indicating little or no linear correlation.\n",
    "\n",
    "# Analyzing the scatter plots, I can gain insights into the correlation and potential causation between the two variables.\n",
    "\n",
    "# 1st scatter plot: I can see that there is a positive correlation between Admit and the GRE score. \n",
    "# As GRE score increases, the chance of Admit is likely.\n",
    "\n",
    "# 2nd scatter plot: I can see that there is a positive correlation of 0.79 between Admit and Toefl score.\n",
    "# It suggests a positive linear relationship."
   ]
  },
  {
   "cell_type": "markdown",
   "id": "cda99af4",
   "metadata": {},
   "source": [
    "## Store Feature Matrix In X and Response(Target) In Vector y"
   ]
  },
  {
   "cell_type": "code",
   "execution_count": 36,
   "id": "44ce84a1",
   "metadata": {},
   "outputs": [],
   "source": [
    "# This line creates a new DataFrame X by dropping the column labeled 'Chance of Admit ' from the original DataFrame df\n",
    "X = df.drop('Chance of Admit ',axis=1)\n",
    "# This line creates a Series y containing only the values from the column labeled 'Chance of Admit ' in the original DataFrame df.\n",
    "# The resulting Series y contains the values of the 'Chance of Admit ' column, which is the target variable I want to predict.\n",
    "y = df['Chance of Admit ']"
   ]
  },
  {
   "cell_type": "markdown",
   "id": "944cf0cd",
   "metadata": {},
   "source": [
    "## Splitting The Dataset Into The Training Set And Test Set"
   ]
  },
  {
   "cell_type": "code",
   "execution_count": 37,
   "id": "a20f2f62",
   "metadata": {},
   "outputs": [],
   "source": [
    "# Import the train_test_split function from the sklearn.model_selection module and \n",
    "# then splits the dataset into training and testing sets.\n",
    "from sklearn.model_selection import train_test_split\n",
    "# X: This is the DataFrame containing the features (independent variables).\n",
    "# y: This is the Series containing the target variable (dependent variable).\n",
    "# test_size=0.20: This parameter specifies the proportion of the dataset that should be included in the test split. \n",
    "# In this case, it's set to 0.20, meaning that 20% of the data will be used for testing, \n",
    "# and the remaining 80% will be used for training.\n",
    "# random_state=42: This parameter sets the random seed for reproducibility\n",
    "X_train,X_test,y_train,y_test=train_test_split(X,y,test_size=0.20,random_state=42)"
   ]
  },
  {
   "cell_type": "markdown",
   "id": "8ef84128",
   "metadata": {},
   "source": [
    "## Feature Scaling"
   ]
  },
  {
   "cell_type": "code",
   "execution_count": 38,
   "id": "3790dc6c",
   "metadata": {},
   "outputs": [
    {
     "data": {
      "text/html": [
       "<div>\n",
       "<style scoped>\n",
       "    .dataframe tbody tr th:only-of-type {\n",
       "        vertical-align: middle;\n",
       "    }\n",
       "\n",
       "    .dataframe tbody tr th {\n",
       "        vertical-align: top;\n",
       "    }\n",
       "\n",
       "    .dataframe thead th {\n",
       "        text-align: right;\n",
       "    }\n",
       "</style>\n",
       "<table border=\"1\" class=\"dataframe\">\n",
       "  <thead>\n",
       "    <tr style=\"text-align: right;\">\n",
       "      <th></th>\n",
       "      <th>GRE Score</th>\n",
       "      <th>TOEFL Score</th>\n",
       "      <th>University Rating</th>\n",
       "      <th>SOP</th>\n",
       "      <th>LOR</th>\n",
       "      <th>CGPA</th>\n",
       "      <th>Research</th>\n",
       "      <th>Chance of Admit</th>\n",
       "    </tr>\n",
       "  </thead>\n",
       "  <tbody>\n",
       "    <tr>\n",
       "      <th>0</th>\n",
       "      <td>337</td>\n",
       "      <td>118</td>\n",
       "      <td>4</td>\n",
       "      <td>4.5</td>\n",
       "      <td>4.5</td>\n",
       "      <td>9.65</td>\n",
       "      <td>1</td>\n",
       "      <td>0.92</td>\n",
       "    </tr>\n",
       "    <tr>\n",
       "      <th>1</th>\n",
       "      <td>324</td>\n",
       "      <td>107</td>\n",
       "      <td>4</td>\n",
       "      <td>4.0</td>\n",
       "      <td>4.5</td>\n",
       "      <td>8.87</td>\n",
       "      <td>1</td>\n",
       "      <td>0.76</td>\n",
       "    </tr>\n",
       "    <tr>\n",
       "      <th>2</th>\n",
       "      <td>316</td>\n",
       "      <td>104</td>\n",
       "      <td>3</td>\n",
       "      <td>3.0</td>\n",
       "      <td>3.5</td>\n",
       "      <td>8.00</td>\n",
       "      <td>1</td>\n",
       "      <td>0.72</td>\n",
       "    </tr>\n",
       "    <tr>\n",
       "      <th>3</th>\n",
       "      <td>322</td>\n",
       "      <td>110</td>\n",
       "      <td>3</td>\n",
       "      <td>3.5</td>\n",
       "      <td>2.5</td>\n",
       "      <td>8.67</td>\n",
       "      <td>1</td>\n",
       "      <td>0.80</td>\n",
       "    </tr>\n",
       "    <tr>\n",
       "      <th>4</th>\n",
       "      <td>314</td>\n",
       "      <td>103</td>\n",
       "      <td>2</td>\n",
       "      <td>2.0</td>\n",
       "      <td>3.0</td>\n",
       "      <td>8.21</td>\n",
       "      <td>0</td>\n",
       "      <td>0.65</td>\n",
       "    </tr>\n",
       "  </tbody>\n",
       "</table>\n",
       "</div>"
      ],
      "text/plain": [
       "   GRE Score  TOEFL Score  University Rating  SOP  LOR   CGPA  Research  \\\n",
       "0        337          118                  4  4.5   4.5  9.65         1   \n",
       "1        324          107                  4  4.0   4.5  8.87         1   \n",
       "2        316          104                  3  3.0   3.5  8.00         1   \n",
       "3        322          110                  3  3.5   2.5  8.67         1   \n",
       "4        314          103                  2  2.0   3.0  8.21         0   \n",
       "\n",
       "   Chance of Admit   \n",
       "0              0.92  \n",
       "1              0.76  \n",
       "2              0.72  \n",
       "3              0.80  \n",
       "4              0.65  "
      ]
     },
     "execution_count": 38,
     "metadata": {},
     "output_type": "execute_result"
    }
   ],
   "source": [
    "# Show few records\n",
    "df.head()"
   ]
  },
  {
   "cell_type": "code",
   "execution_count": 39,
   "id": "fbf2d643",
   "metadata": {},
   "outputs": [],
   "source": [
    "# This line imports the StandardScaler class from the sklearn.preprocessing module.\n",
    "from sklearn.preprocessing import StandardScaler\n",
    "# This line creates an instance of the StandardScaler class and assigns it to the variable sc. \n",
    "sc = StandardScaler()"
   ]
  },
  {
   "cell_type": "code",
   "execution_count": 40,
   "id": "e600ca4e",
   "metadata": {},
   "outputs": [],
   "source": [
    "# This line standardizes the training features (X_train) by fitting the StandardScaler (sc) \n",
    "# to the training data and transforming it. \n",
    "X_train=sc.fit_transform(X_train)\n",
    "# This line standardizes the testing features (X_test) using the mean and standard deviation calculated from the training set.\n",
    "X_test=sc.transform(X_test)"
   ]
  },
  {
   "cell_type": "code",
   "execution_count": 41,
   "id": "aa6c9416",
   "metadata": {},
   "outputs": [
    {
     "data": {
      "text/plain": [
       "array([[ 0.45711129,  0.42466178, -0.057308  , ..., -1.05965163,\n",
       "         0.13986648,  0.92761259],\n",
       "       [ 0.1022887 ,  0.42466178, -0.057308  , ..., -0.50194025,\n",
       "         0.36110014, -1.07803625],\n",
       "       [ 2.05381293,  2.08593034,  1.6892215 , ...,  1.17119391,\n",
       "         2.25009529,  0.92761259],\n",
       "       ...,\n",
       "       [-0.96217907, -0.40597251, -0.93057275, ..., -0.50194025,\n",
       "        -0.62594237,  0.92761259],\n",
       "       [-1.31700165, -1.40273364, -1.8038375 , ..., -1.61736302,\n",
       "        -2.27668588, -1.07803625],\n",
       "       [-0.25253389, -0.23984565, -0.93057275, ...,  0.05577114,\n",
       "        -0.57488845, -1.07803625]])"
      ]
     },
     "execution_count": 41,
     "metadata": {},
     "output_type": "execute_result"
    }
   ],
   "source": [
    "# Show the result of X_train\n",
    "X_train"
   ]
  },
  {
   "cell_type": "code",
   "execution_count": 42,
   "id": "b432c232",
   "metadata": {},
   "outputs": [],
   "source": [
    "# Import numpy library\n",
    "import numpy as np\n",
    "# This line creates a new list y_train by iterating over each value in the original y_train list (or array) \n",
    "# and assigning a value of 1 if the value is greater than 0.8, and 0 otherwise. \n",
    "y_train = [1 if value>0.8 else 0 for value in y_train]\n",
    "# This line creates a new list y_test by iterating over each value in the original y_test list (or array) \n",
    "# and assigning a value of 1 if the value is greater than 0.8, and 0 otherwise.\n",
    "y_test = [1 if value>0.8 else 0 for value in y_test]\n",
    "# These lines convert the lists y_train and y_test to NumPy arrays using the np.array() function. \n",
    "y_train = np.array(y_train)\n",
    "y_test = np.array(y_test)"
   ]
  },
  {
   "cell_type": "code",
   "execution_count": 43,
   "id": "fc1d1a8a",
   "metadata": {},
   "outputs": [
    {
     "data": {
      "text/plain": [
       "array([0, 0, 1, 0, 0, 0, 0, 0, 1, 0, 0, 1, 0, 0, 0, 0, 0, 0, 0, 0, 0, 0,\n",
       "       0, 0, 0, 0, 0, 0, 0, 0, 0, 0, 0, 0, 1, 0, 0, 1, 0, 0, 0, 0, 0, 0,\n",
       "       1, 1, 0, 0, 0, 1, 1, 1, 0, 1, 0, 0, 1, 0, 1, 0, 0, 0, 0, 0, 0, 1,\n",
       "       0, 0, 0, 0, 0, 0, 0, 1, 0, 1, 0, 1, 0, 0, 0, 0, 1, 0, 0, 0, 0, 0,\n",
       "       1, 0, 0, 0, 0, 0, 1, 0, 1, 0, 0, 1, 0, 0, 0, 0, 0, 0, 0, 0, 0, 0,\n",
       "       0, 0, 1, 0, 0, 0, 1, 0, 0, 0, 0, 1, 0, 1, 1, 1, 0, 1, 1, 1, 0, 0,\n",
       "       0, 0, 0, 0, 0, 0, 1, 1, 1, 1, 1, 0, 0, 0, 0, 1, 0, 0, 0, 1, 1, 0,\n",
       "       1, 0, 0, 1, 0, 0, 0, 0, 0, 0, 0, 1, 0, 1, 0, 0, 0, 0, 0, 0, 1, 0,\n",
       "       0, 0, 0, 1, 0, 0, 1, 0, 0, 1, 0, 0, 0, 0, 0, 0, 1, 0, 0, 0, 0, 0,\n",
       "       1, 0, 0, 0, 0, 0, 0, 0, 1, 1, 1, 1, 0, 1, 1, 0, 0, 0, 0, 0, 0, 1,\n",
       "       1, 0, 0, 0, 0, 1, 1, 0, 0, 0, 0, 0, 0, 0, 0, 1, 0, 0, 1, 0, 1, 0,\n",
       "       0, 0, 0, 1, 0, 0, 0, 0, 1, 1, 1, 0, 1, 0, 0, 0, 0, 0, 0, 1, 0, 0,\n",
       "       1, 0, 0, 0, 0, 0, 0, 0, 0, 0, 0, 0, 1, 0, 0, 0, 0, 0, 0, 1, 1, 1,\n",
       "       1, 0, 0, 1, 0, 1, 0, 0, 0, 0, 1, 1, 0, 0, 0, 0, 0, 1, 1, 1, 0, 1,\n",
       "       0, 0, 1, 1, 1, 0, 1, 1, 1, 0, 0, 0])"
      ]
     },
     "execution_count": 43,
     "metadata": {},
     "output_type": "execute_result"
    }
   ],
   "source": [
    "y_train"
   ]
  },
  {
   "cell_type": "markdown",
   "id": "afd7573e",
   "metadata": {},
   "source": [
    "## Import The models"
   ]
  },
  {
   "cell_type": "code",
   "execution_count": 44,
   "id": "2a340a56",
   "metadata": {},
   "outputs": [],
   "source": [
    "# Import few libraries\n",
    "from sklearn.linear_model import LogisticRegression\n",
    "from sklearn import svm\n",
    "from sklearn.neighbors import KNeighborsClassifier\n",
    "from sklearn.ensemble import RandomForestClassifier\n",
    "from sklearn.ensemble import GradientBoostingClassifier\n",
    "from sklearn.metrics import accuracy_score"
   ]
  },
  {
   "cell_type": "markdown",
   "id": "00d5f844",
   "metadata": {},
   "source": [
    "## Model Training & Evaluation"
   ]
  },
  {
   "cell_type": "code",
   "execution_count": 45,
   "id": "9fe4633a",
   "metadata": {},
   "outputs": [
    {
     "name": "stdout",
     "output_type": "stream",
     "text": [
      "0.925\n"
     ]
    }
   ],
   "source": [
    "# This line creates an instance of the LogisticRegression class from scikit-learn's linear_model module\n",
    "lr = LogisticRegression()\n",
    "# This line trains the logistic regression model (lr) on the training data (X_train and y_train) using the fit method\n",
    "lr.fit(X_train,y_train)\n",
    "# This line uses the trained logistic regression model (lr) to predict the labels for the test data (X_test) using the predict method. \n",
    "y_pred_lr= lr.predict(X_test)\n",
    "# Print the result\n",
    "print(accuracy_score(y_test,y_pred_lr))"
   ]
  },
  {
   "cell_type": "code",
   "execution_count": 46,
   "id": "0f4f6a5d",
   "metadata": {},
   "outputs": [
    {
     "name": "stdout",
     "output_type": "stream",
     "text": [
      "0.925\n"
     ]
    }
   ],
   "source": [
    "# Repeat the same for SVM\n",
    "svm = svm.SVC()\n",
    "svm.fit(X_train,y_train)\n",
    "y_pred_svm = svm.predict(X_test)\n",
    "print(accuracy_score(y_test,y_pred_svm))"
   ]
  },
  {
   "cell_type": "code",
   "execution_count": 47,
   "id": "477e4bad",
   "metadata": {},
   "outputs": [
    {
     "name": "stdout",
     "output_type": "stream",
     "text": [
      "0.8875\n"
     ]
    }
   ],
   "source": [
    "# Repeat the same for KNN\n",
    "knn=KNeighborsClassifier()\n",
    "knn.fit(X_train,y_train)\n",
    "y_pred_knn = knn.predict(X_test)\n",
    "print(accuracy_score(y_test,y_pred_knn))"
   ]
  },
  {
   "cell_type": "code",
   "execution_count": 48,
   "id": "a908b3bc",
   "metadata": {},
   "outputs": [
    {
     "name": "stdout",
     "output_type": "stream",
     "text": [
      "0.925\n"
     ]
    }
   ],
   "source": [
    "# Repeat the same for RF\n",
    "rf = RandomForestClassifier()\n",
    "rf.fit(X_train,y_train)\n",
    "y_pred_rf = rf.predict(X_test)\n",
    "print(accuracy_score(y_test,y_pred_rf))"
   ]
  },
  {
   "cell_type": "code",
   "execution_count": 49,
   "id": "31fdcdc3",
   "metadata": {},
   "outputs": [
    {
     "name": "stdout",
     "output_type": "stream",
     "text": [
      "0.975\n"
     ]
    }
   ],
   "source": [
    "# Repeat the same for GBC\n",
    "gr = GradientBoostingClassifier()\n",
    "gr.fit(X_train,y_train)\n",
    "y_pred_gr = gr.predict(X_test)\n",
    "print(accuracy_score(y_test,y_pred_gr))"
   ]
  },
  {
   "cell_type": "code",
   "execution_count": 50,
   "id": "c0d58504",
   "metadata": {},
   "outputs": [],
   "source": [
    "# Create a DataFrame using a dictionary where the keys are column names ('Models' and 'ACC_SCORE') \n",
    "# and the values are lists containing the corresponding data.\n",
    "data = pd.DataFrame({'Models':['LR','SVC','KNN','RF','GBC'],\n",
    "                           'ACC_SCORE':[accuracy_score(y_test,y_pred_lr),\n",
    "                                       accuracy_score(y_test,y_pred_svm),\n",
    "                                       accuracy_score(y_test,y_pred_knn),\n",
    "                                       accuracy_score(y_test,y_pred_rf),\n",
    "                                       accuracy_score(y_test,y_pred_gr)]})"
   ]
  },
  {
   "cell_type": "code",
   "execution_count": 51,
   "id": "1b42694b",
   "metadata": {},
   "outputs": [
    {
     "data": {
      "text/html": [
       "<div>\n",
       "<style scoped>\n",
       "    .dataframe tbody tr th:only-of-type {\n",
       "        vertical-align: middle;\n",
       "    }\n",
       "\n",
       "    .dataframe tbody tr th {\n",
       "        vertical-align: top;\n",
       "    }\n",
       "\n",
       "    .dataframe thead th {\n",
       "        text-align: right;\n",
       "    }\n",
       "</style>\n",
       "<table border=\"1\" class=\"dataframe\">\n",
       "  <thead>\n",
       "    <tr style=\"text-align: right;\">\n",
       "      <th></th>\n",
       "      <th>Models</th>\n",
       "      <th>ACC_SCORE</th>\n",
       "    </tr>\n",
       "  </thead>\n",
       "  <tbody>\n",
       "    <tr>\n",
       "      <th>0</th>\n",
       "      <td>LR</td>\n",
       "      <td>0.9250</td>\n",
       "    </tr>\n",
       "    <tr>\n",
       "      <th>1</th>\n",
       "      <td>SVC</td>\n",
       "      <td>0.9250</td>\n",
       "    </tr>\n",
       "    <tr>\n",
       "      <th>2</th>\n",
       "      <td>KNN</td>\n",
       "      <td>0.8875</td>\n",
       "    </tr>\n",
       "    <tr>\n",
       "      <th>3</th>\n",
       "      <td>RF</td>\n",
       "      <td>0.9250</td>\n",
       "    </tr>\n",
       "    <tr>\n",
       "      <th>4</th>\n",
       "      <td>GBC</td>\n",
       "      <td>0.9750</td>\n",
       "    </tr>\n",
       "  </tbody>\n",
       "</table>\n",
       "</div>"
      ],
      "text/plain": [
       "  Models  ACC_SCORE\n",
       "0     LR     0.9250\n",
       "1    SVC     0.9250\n",
       "2    KNN     0.8875\n",
       "3     RF     0.9250\n",
       "4    GBC     0.9750"
      ]
     },
     "execution_count": 51,
     "metadata": {},
     "output_type": "execute_result"
    }
   ],
   "source": [
    "# Show the result\n",
    "data"
   ]
  },
  {
   "cell_type": "code",
   "execution_count": 52,
   "id": "a642e81f",
   "metadata": {},
   "outputs": [
    {
     "data": {
      "image/png": "[encoded data removed]",
      "text/plain": [
       "<Figure size 640x480 with 1 Axes>"
      ]
     },
     "metadata": {},
     "output_type": "display_data"
    }
   ],
   "source": [
    "import seaborn as sns\n",
    "import matplotlib.pyplot as plt\n",
    "\n",
    "# Assuming df contains your data\n",
    "sns.set(style=\"whitegrid\")  # Set the style of the plot\n",
    "\n",
    "# Create the bar plot\n",
    "ax = sns.barplot(x='ACC_SCORE', y='Models', data=data)\n",
    "\n",
    "# Adding labels and title\n",
    "plt.xlabel('Accuracy Score')\n",
    "plt.ylabel('Models')\n",
    "plt.title('Accuracy Score Comparison for Different Models')\n",
    "\n",
    "# Add text labels for each bar\n",
    "for index, row in data.iterrows():\n",
    "    ax.text(row['ACC_SCORE'], index, f'{row[\"ACC_SCORE\"]:.3f}', va='center')\n",
    "\n",
    "# Display the plot\n",
    "plt.show()"
   ]
  },
  {
   "cell_type": "code",
   "execution_count": 53,
   "id": "e5b35b25",
   "metadata": {},
   "outputs": [],
   "source": [
    "# The Gradient Boosting model is the best model."
   ]
  },
  {
   "cell_type": "markdown",
   "id": "3d2e339d",
   "metadata": {},
   "source": [
    "## Save The Model"
   ]
  },
  {
   "cell_type": "code",
   "execution_count": 54,
   "id": "fc0e16f4",
   "metadata": {},
   "outputs": [],
   "source": [
    "X = df.drop('Chance of Admit ',axis=1)\n",
    "y = df['Chance of Admit ']"
   ]
  },
  {
   "cell_type": "code",
   "execution_count": 55,
   "id": "100ff1df",
   "metadata": {},
   "outputs": [
    {
     "data": {
      "text/plain": [
       "array([1, 0, 0, 0, 0, 1, 0, 0, 0, 0, 0, 1, 0, 0, 0, 0, 0, 0, 0, 0, 0, 0,\n",
       "       1, 1, 1, 1, 0, 0, 0, 0, 0, 0, 1, 1, 1, 1, 0, 0, 0, 0, 0, 0, 0, 1,\n",
       "       1, 1, 1, 1, 1, 0, 0, 0, 0, 0, 0, 0, 0, 0, 0, 0, 0, 0, 0, 0, 0, 0,\n",
       "       0, 0, 0, 0, 1, 1, 1, 1, 0, 0, 0, 0, 0, 0, 0, 1, 1, 1, 1, 0, 0, 0,\n",
       "       0, 0, 0, 0, 0, 0, 0, 0, 0, 1, 1, 0, 0, 0, 0, 0, 0, 0, 1, 1, 1, 0,\n",
       "       0, 0, 0, 0, 0, 0, 0, 0, 0, 0, 1, 1, 0, 0, 0, 0, 1, 0, 1, 1, 1, 0,\n",
       "       0, 0, 1, 1, 0, 0, 0, 0, 1, 1, 1, 1, 0, 1, 0, 1, 1, 0, 1, 1, 1, 0,\n",
       "       0, 0, 0, 0, 0, 0, 0, 0, 0, 0, 1, 0, 0, 0, 0, 0, 0, 1, 1, 1, 1, 1,\n",
       "       1, 1, 0, 0, 0, 0, 0, 0, 0, 1, 1, 1, 1, 1, 1, 1, 1, 1, 0, 0, 0, 0,\n",
       "       0, 0, 0, 0, 1, 1, 0, 0, 0, 0, 0, 0, 0, 1, 1, 1, 1, 1, 1, 1, 1, 0,\n",
       "       0, 0, 0, 0, 0, 0, 0, 0, 0, 1, 0, 0, 0, 0, 1, 1, 1, 1, 0, 0, 0, 0,\n",
       "       0, 0, 0, 1, 0, 0, 0, 0, 0, 0, 0, 1, 1, 0, 0, 0, 0, 1, 1, 0, 0, 0,\n",
       "       0, 0, 0, 0, 1, 0, 0, 0, 0, 0, 0, 0, 1, 0, 0, 0, 0, 0, 1, 0, 1, 1,\n",
       "       1, 1, 1, 0, 0, 0, 0, 0, 0, 0, 0, 1, 1, 0, 0, 0, 0, 0, 0, 0, 0, 0,\n",
       "       0, 0, 0, 1, 0, 0, 0, 0, 0, 0, 0, 0, 0, 0, 0, 0, 0, 1, 0, 0, 0, 0,\n",
       "       0, 0, 0, 0, 0, 1, 0, 1, 1, 1, 0, 0, 0, 0, 0, 0, 0, 0, 0, 0, 0, 0,\n",
       "       0, 0, 0, 0, 0, 0, 0, 1, 1, 1, 1, 0, 0, 1, 0, 0, 0, 0, 0, 1, 1, 0,\n",
       "       0, 0, 0, 0, 0, 0, 0, 0, 1, 0, 1, 1, 0, 0, 0, 0, 0, 0, 1, 0, 1, 1,\n",
       "       1, 1, 0, 1])"
      ]
     },
     "execution_count": 55,
     "metadata": {},
     "output_type": "execute_result"
    }
   ],
   "source": [
    "y  = [1 if value>0.8 else 0 for value in y]\n",
    "y = np.array(y)\n",
    "y"
   ]
  },
  {
   "cell_type": "code",
   "execution_count": 56,
   "id": "bd2ce83b",
   "metadata": {},
   "outputs": [
    {
     "data": {
      "text/plain": [
       "array([[ 1.76210664,  1.74697064,  0.79882862, ...,  1.16732114,\n",
       "         1.76481828,  0.90911166],\n",
       "       [ 0.62765641, -0.06763531,  0.79882862, ...,  1.16732114,\n",
       "         0.45515126,  0.90911166],\n",
       "       [-0.07046681, -0.56252785, -0.07660001, ...,  0.05293342,\n",
       "        -1.00563118,  0.90911166],\n",
       "       ...,\n",
       "       [ 1.15124883,  1.41704229,  0.79882862, ...,  1.16732114,\n",
       "         1.42900622,  0.90911166],\n",
       "       [-0.41952842, -0.72749202, -0.07660001, ...,  0.61012728,\n",
       "         0.30403584, -1.09997489],\n",
       "       [ 1.41304503,  1.58200646,  0.79882862, ...,  0.61012728,\n",
       "         1.78160888,  0.90911166]])"
      ]
     },
     "execution_count": 56,
     "metadata": {},
     "output_type": "execute_result"
    }
   ],
   "source": [
    "X = sc.fit_transform(X)\n",
    "X"
   ]
  },
  {
   "cell_type": "code",
   "execution_count": 57,
   "id": "d96ada76",
   "metadata": {},
   "outputs": [
    {
     "data": {
      "text/html": [
       "<style>#sk-container-id-1 {color: black;background-color: white;}#sk-container-id-1 pre{padding: 0;}#sk-container-id-1 div.sk-toggleable {background-color: white;}#sk-container-id-1 label.sk-toggleable__label {cursor: pointer;display: block;width: 100%;margin-bottom: 0;padding: 0.3em;box-sizing: border-box;text-align: center;}#sk-container-id-1 label.sk-toggleable__label-arrow:before {content: \"▸\";float: left;margin-right: 0.25em;color: #696969;}#sk-container-id-1 label.sk-toggleable__label-arrow:hover:before {color: black;}#sk-container-id-1 div.sk-estimator:hover label.sk-toggleable__label-arrow:before {color: black;}#sk-container-id-1 div.sk-toggleable__content {max-height: 0;max-width: 0;overflow: hidden;text-align: left;background-color: #f0f8ff;}#sk-container-id-1 div.sk-toggleable__content pre {margin: 0.2em;color: black;border-radius: 0.25em;background-color: #f0f8ff;}#sk-container-id-1 input.sk-toggleable__control:checked~div.sk-toggleable__content {max-height: 200px;max-width: 100%;overflow: auto;}#sk-container-id-1 input.sk-toggleable__control:checked~label.sk-toggleable__label-arrow:before {content: \"▾\";}#sk-container-id-1 div.sk-estimator input.sk-toggleable__control:checked~label.sk-toggleable__label {background-color: #d4ebff;}#sk-container-id-1 div.sk-label input.sk-toggleable__control:checked~label.sk-toggleable__label {background-color: #d4ebff;}#sk-container-id-1 input.sk-hidden--visually {border: 0;clip: rect(1px 1px 1px 1px);clip: rect(1px, 1px, 1px, 1px);height: 1px;margin: -1px;overflow: hidden;padding: 0;position: absolute;width: 1px;}#sk-container-id-1 div.sk-estimator {font-family: monospace;background-color: #f0f8ff;border: 1px dotted black;border-radius: 0.25em;box-sizing: border-box;margin-bottom: 0.5em;}#sk-container-id-1 div.sk-estimator:hover {background-color: #d4ebff;}#sk-container-id-1 div.sk-parallel-item::after {content: \"\";width: 100%;border-bottom: 1px solid gray;flex-grow: 1;}#sk-container-id-1 div.sk-label:hover label.sk-toggleable__label {background-color: #d4ebff;}#sk-container-id-1 div.sk-serial::before {content: \"\";position: absolute;border-left: 1px solid gray;box-sizing: border-box;top: 0;bottom: 0;left: 50%;z-index: 0;}#sk-container-id-1 div.sk-serial {display: flex;flex-direction: column;align-items: center;background-color: white;padding-right: 0.2em;padding-left: 0.2em;position: relative;}#sk-container-id-1 div.sk-item {position: relative;z-index: 1;}#sk-container-id-1 div.sk-parallel {display: flex;align-items: stretch;justify-content: center;background-color: white;position: relative;}#sk-container-id-1 div.sk-item::before, #sk-container-id-1 div.sk-parallel-item::before {content: \"\";position: absolute;border-left: 1px solid gray;box-sizing: border-box;top: 0;bottom: 0;left: 50%;z-index: -1;}#sk-container-id-1 div.sk-parallel-item {display: flex;flex-direction: column;z-index: 1;position: relative;background-color: white;}#sk-container-id-1 div.sk-parallel-item:first-child::after {align-self: flex-end;width: 50%;}#sk-container-id-1 div.sk-parallel-item:last-child::after {align-self: flex-start;width: 50%;}#sk-container-id-1 div.sk-parallel-item:only-child::after {width: 0;}#sk-container-id-1 div.sk-dashed-wrapped {border: 1px dashed gray;margin: 0 0.4em 0.5em 0.4em;box-sizing: border-box;padding-bottom: 0.4em;background-color: white;}#sk-container-id-1 div.sk-label label {font-family: monospace;font-weight: bold;display: inline-block;line-height: 1.2em;}#sk-container-id-1 div.sk-label-container {text-align: center;}#sk-container-id-1 div.sk-container {/* jupyter's `normalize.less` sets `[hidden] { display: none; }` but bootstrap.min.css set `[hidden] { display: none !important; }` so we also need the `!important` here to be able to override the default hidden behavior on the sphinx rendered scikit-learn.org. See: https://github.com/scikit-learn/scikit-learn/issues/21755 */display: inline-block !important;position: relative;}#sk-container-id-1 div.sk-text-repr-fallback {display: none;}</style><div id=\"sk-container-id-1\" class=\"sk-top-container\"><div class=\"sk-text-repr-fallback\"><pre>GradientBoostingClassifier()</pre><b>In a Jupyter environment, please rerun this cell to show the HTML representation or trust the notebook. <br />On GitHub, the HTML representation is unable to render, please try loading this page with nbviewer.org.</b></div><div class=\"sk-container\" hidden><div class=\"sk-item\"><div class=\"sk-estimator sk-toggleable\"><input class=\"sk-toggleable__control sk-hidden--visually\" id=\"sk-estimator-id-1\" type=\"checkbox\" checked><label for=\"sk-estimator-id-1\" class=\"sk-toggleable__label sk-toggleable__label-arrow\">GradientBoostingClassifier</label><div class=\"sk-toggleable__content\"><pre>GradientBoostingClassifier()</pre></div></div></div></div></div>"
      ],
      "text/plain": [
       "GradientBoostingClassifier()"
      ]
     },
     "execution_count": 57,
     "metadata": {},
     "output_type": "execute_result"
    }
   ],
   "source": [
    "# This line creates an instance of the GradientBoostingClassifier class from the ensemble module in scikit-learn.\n",
    "gr = GradientBoostingClassifier()\n",
    "# This line trains (fits) the GradientBoostingClassifier model on the entire dataset X and \n",
    "# corresponding target variable y using the fit method.\n",
    "gr.fit(X,y)"
   ]
  },
  {
   "cell_type": "code",
   "execution_count": 58,
   "id": "7a870321",
   "metadata": {},
   "outputs": [
    {
     "data": {
      "text/plain": [
       "['Graduate_Admission_model']"
      ]
     },
     "execution_count": 58,
     "metadata": {},
     "output_type": "execute_result"
    }
   ],
   "source": [
    "# Import the joblib library\n",
    "import joblib\n",
    "# This line saves the trained GradientBoostingClassifier model (gr) to a file named 'Graduate_Admission_model'. \n",
    "joblib.dump(gr,'Graduate_Admission_model')"
   ]
  },
  {
   "cell_type": "code",
   "execution_count": 59,
   "id": "c5247c11",
   "metadata": {},
   "outputs": [],
   "source": [
    "# This line loads the previously saved model from the file 'Graduate_Admission_model' and assigns it to the variable 'model'. \n",
    "# I can now use this model to make predictions on new data \n",
    "model = joblib.load('Graduate_Admission_model')"
   ]
  },
  {
   "cell_type": "code",
   "execution_count": null,
   "id": "b44a1c96",
   "metadata": {},
   "outputs": [],
   "source": []
  }
 ],
 "metadata": {
  "kernelspec": {
   "display_name": "Python 3 (ipykernel)",
   "language": "python",
   "name": "python3"
  },
  "language_info": {
   "codemirror_mode": {
    "name": "ipython",
    "version": 3
   },
   "file_extension": ".py",
   "mimetype": "text/x-python",
   "name": "python",
   "nbconvert_exporter": "python",
   "pygments_lexer": "ipython3",
   "version": "3.11.5"
  }
 },
 "nbformat": 4,
 "nbformat_minor": 5
}
