{
 "cells": [
  {
   "cell_type": "markdown",
   "id": "b43906b4",
   "metadata": {},
   "source": [
    "# Henry Pham\n",
    "# Project 8 - Predicting Bank Customer Churn"
   ]
  },
  {
   "cell_type": "code",
   "execution_count": 1,
   "id": "b19a06a5",
   "metadata": {},
   "outputs": [],
   "source": [
    "# ---- Project 8 ----"
   ]
  },
  {
   "cell_type": "markdown",
   "id": "7df3ad61",
   "metadata": {},
   "source": [
    "## Introduction"
   ]
  },
  {
   "cell_type": "code",
   "execution_count": 2,
   "id": "1e0daaea",
   "metadata": {},
   "outputs": [],
   "source": [
    "# The aim of this project is to develop an accurate and actionable predictive model for forecasting bank customer churn, \n",
    "# assisting financial institutions in retaining customers and enhancing customer satisfaction. \n",
    "# Accurate predictions of customer churn are pivotal for banks and financial institutions seeking to proactively address attrition, \n",
    "# improve customer engagement, and optimize retention strategies. \n",
    "# By harnessing the power of predictive analytics and historical customer data, this project seeks to provide valuable insights \n",
    "# and predictive capabilities that can bolster customer relationship management in the banking sector."
   ]
  },
  {
   "cell_type": "markdown",
   "id": "c19de038",
   "metadata": {},
   "source": [
    "## Data Sources"
   ]
  },
  {
   "cell_type": "code",
   "execution_count": 3,
   "id": "2ae601cc",
   "metadata": {},
   "outputs": [],
   "source": [
    "# Bank Customer Churn: https://www.kaggle.com/datasets/aakash50897/churn-modellingcsv"
   ]
  },
  {
   "cell_type": "markdown",
   "id": "b638442d",
   "metadata": {},
   "source": [
    "## Required Libraries"
   ]
  },
  {
   "cell_type": "code",
   "execution_count": 4,
   "id": "5a4b2dea",
   "metadata": {},
   "outputs": [],
   "source": [
    "# matplotlib: data visualization library for Python, widely used in data analysis, scientific research, engineering, and visualization tasks.\n",
    "# numpy: numerical computations and data manipulation in Python.\n",
    "# pandas: data manipulation, preprocessing, cleaning, transformation, exploration, and visualization.\n",
    "# seaborn: a Python data visualization, widely used in data analysis, statistical modeling, and exploratory data analysis tasks.\n",
    "# scikit-learn: also known as sklearn, provides an efficient framework for various machine learning tasks, such as classification, regression, clustering, dimensionality reduction, model selection, and preprocessing.\n",
    "# scipy: a library for scientific computing in Python, provided a collection of mathematical algorithms and functionality such as optimization, interpolation, integration, linear algebra, signal processing, and statistics\n",
    "# sqldf: a Python library that provides a SQL-like interface for querying pandas DataFrames using SQL syntax."
   ]
  },
  {
   "cell_type": "markdown",
   "id": "bd5f58dd",
   "metadata": {},
   "source": [
    "## Get Bank Customer Churn Data"
   ]
  },
  {
   "cell_type": "code",
   "execution_count": 5,
   "id": "781e484b",
   "metadata": {},
   "outputs": [],
   "source": [
    "# Import few libraries\n",
    "import pandas as pd\n",
    "import numpy as np\n",
    "import seaborn as sns\n",
    "import matplotlib.pyplot as plt\n",
    "import warnings\n",
    "warnings.filterwarnings('ignore')"
   ]
  },
  {
   "cell_type": "code",
   "execution_count": 6,
   "id": "b13a5c46",
   "metadata": {},
   "outputs": [],
   "source": [
    "# Read csv file using pandas\n",
    "df = pd.read_csv('C:\\\\DSC680\\\\PracticeMachineLearning\\\\Churn_Modelling.csv')"
   ]
  },
  {
   "cell_type": "markdown",
   "id": "a4af7414",
   "metadata": {},
   "source": [
    "## Data Cleaning"
   ]
  },
  {
   "cell_type": "code",
   "execution_count": 7,
   "id": "424255a4",
   "metadata": {},
   "outputs": [
    {
     "data": {
      "text/html": [
       "<div>\n",
       "<style scoped>\n",
       "    .dataframe tbody tr th:only-of-type {\n",
       "        vertical-align: middle;\n",
       "    }\n",
       "\n",
       "    .dataframe tbody tr th {\n",
       "        vertical-align: top;\n",
       "    }\n",
       "\n",
       "    .dataframe thead th {\n",
       "        text-align: right;\n",
       "    }\n",
       "</style>\n",
       "<table border=\"1\" class=\"dataframe\">\n",
       "  <thead>\n",
       "    <tr style=\"text-align: right;\">\n",
       "      <th></th>\n",
       "      <th>RowNumber</th>\n",
       "      <th>CustomerId</th>\n",
       "      <th>Surname</th>\n",
       "      <th>CreditScore</th>\n",
       "      <th>Geography</th>\n",
       "      <th>Gender</th>\n",
       "      <th>Age</th>\n",
       "      <th>Tenure</th>\n",
       "      <th>Balance</th>\n",
       "      <th>NumOfProducts</th>\n",
       "      <th>HasCrCard</th>\n",
       "      <th>IsActiveMember</th>\n",
       "      <th>EstimatedSalary</th>\n",
       "      <th>Exited</th>\n",
       "    </tr>\n",
       "  </thead>\n",
       "  <tbody>\n",
       "    <tr>\n",
       "      <th>0</th>\n",
       "      <td>1</td>\n",
       "      <td>15634602</td>\n",
       "      <td>Hargrave</td>\n",
       "      <td>619</td>\n",
       "      <td>France</td>\n",
       "      <td>Female</td>\n",
       "      <td>42</td>\n",
       "      <td>2</td>\n",
       "      <td>0.00</td>\n",
       "      <td>1</td>\n",
       "      <td>1</td>\n",
       "      <td>1</td>\n",
       "      <td>101348.88</td>\n",
       "      <td>1</td>\n",
       "    </tr>\n",
       "    <tr>\n",
       "      <th>1</th>\n",
       "      <td>2</td>\n",
       "      <td>15647311</td>\n",
       "      <td>Hill</td>\n",
       "      <td>608</td>\n",
       "      <td>Spain</td>\n",
       "      <td>Female</td>\n",
       "      <td>41</td>\n",
       "      <td>1</td>\n",
       "      <td>83807.86</td>\n",
       "      <td>1</td>\n",
       "      <td>0</td>\n",
       "      <td>1</td>\n",
       "      <td>112542.58</td>\n",
       "      <td>0</td>\n",
       "    </tr>\n",
       "    <tr>\n",
       "      <th>2</th>\n",
       "      <td>3</td>\n",
       "      <td>15619304</td>\n",
       "      <td>Onio</td>\n",
       "      <td>502</td>\n",
       "      <td>France</td>\n",
       "      <td>Female</td>\n",
       "      <td>42</td>\n",
       "      <td>8</td>\n",
       "      <td>159660.80</td>\n",
       "      <td>3</td>\n",
       "      <td>1</td>\n",
       "      <td>0</td>\n",
       "      <td>113931.57</td>\n",
       "      <td>1</td>\n",
       "    </tr>\n",
       "    <tr>\n",
       "      <th>3</th>\n",
       "      <td>4</td>\n",
       "      <td>15701354</td>\n",
       "      <td>Boni</td>\n",
       "      <td>699</td>\n",
       "      <td>France</td>\n",
       "      <td>Female</td>\n",
       "      <td>39</td>\n",
       "      <td>1</td>\n",
       "      <td>0.00</td>\n",
       "      <td>2</td>\n",
       "      <td>0</td>\n",
       "      <td>0</td>\n",
       "      <td>93826.63</td>\n",
       "      <td>0</td>\n",
       "    </tr>\n",
       "    <tr>\n",
       "      <th>4</th>\n",
       "      <td>5</td>\n",
       "      <td>15737888</td>\n",
       "      <td>Mitchell</td>\n",
       "      <td>850</td>\n",
       "      <td>Spain</td>\n",
       "      <td>Female</td>\n",
       "      <td>43</td>\n",
       "      <td>2</td>\n",
       "      <td>125510.82</td>\n",
       "      <td>1</td>\n",
       "      <td>1</td>\n",
       "      <td>1</td>\n",
       "      <td>79084.10</td>\n",
       "      <td>0</td>\n",
       "    </tr>\n",
       "  </tbody>\n",
       "</table>\n",
       "</div>"
      ],
      "text/plain": [
       "   RowNumber  CustomerId   Surname  CreditScore Geography  Gender  Age  \\\n",
       "0          1    15634602  Hargrave          619    France  Female   42   \n",
       "1          2    15647311      Hill          608     Spain  Female   41   \n",
       "2          3    15619304      Onio          502    France  Female   42   \n",
       "3          4    15701354      Boni          699    France  Female   39   \n",
       "4          5    15737888  Mitchell          850     Spain  Female   43   \n",
       "\n",
       "   Tenure    Balance  NumOfProducts  HasCrCard  IsActiveMember  \\\n",
       "0       2       0.00              1          1               1   \n",
       "1       1   83807.86              1          0               1   \n",
       "2       8  159660.80              3          1               0   \n",
       "3       1       0.00              2          0               0   \n",
       "4       2  125510.82              1          1               1   \n",
       "\n",
       "   EstimatedSalary  Exited  \n",
       "0        101348.88       1  \n",
       "1        112542.58       0  \n",
       "2        113931.57       1  \n",
       "3         93826.63       0  \n",
       "4         79084.10       0  "
      ]
     },
     "execution_count": 7,
     "metadata": {},
     "output_type": "execute_result"
    }
   ],
   "source": [
    "# Show few records\n",
    "df.head()"
   ]
  },
  {
   "cell_type": "markdown",
   "id": "1f1da543",
   "metadata": {},
   "source": [
    "## Find shape of the dataset "
   ]
  },
  {
   "cell_type": "code",
   "execution_count": 8,
   "id": "3fc85fb9",
   "metadata": {},
   "outputs": [
    {
     "data": {
      "text/plain": [
       "(10000, 14)"
      ]
     },
     "execution_count": 8,
     "metadata": {},
     "output_type": "execute_result"
    }
   ],
   "source": [
    "# Retrieve the dimensions of a DataFrame df\n",
    "df.shape"
   ]
  },
  {
   "cell_type": "code",
   "execution_count": 9,
   "id": "0b7f94b8",
   "metadata": {},
   "outputs": [
    {
     "name": "stdout",
     "output_type": "stream",
     "text": [
      "Number of Rows 10000\n",
      "Number of Columns 14\n"
     ]
    }
   ],
   "source": [
    "print(\"Number of Rows\",df.shape[0])\n",
    "print(\"Number of Columns\",df.shape[1])"
   ]
  },
  {
   "cell_type": "markdown",
   "id": "be245cbd",
   "metadata": {},
   "source": [
    "## Get information About the dataset"
   ]
  },
  {
   "cell_type": "code",
   "execution_count": 10,
   "id": "2377ac52",
   "metadata": {},
   "outputs": [
    {
     "name": "stdout",
     "output_type": "stream",
     "text": [
      "<class 'pandas.core.frame.DataFrame'>\n",
      "RangeIndex: 10000 entries, 0 to 9999\n",
      "Data columns (total 14 columns):\n",
      " #   Column           Non-Null Count  Dtype  \n",
      "---  ------           --------------  -----  \n",
      " 0   RowNumber        10000 non-null  int64  \n",
      " 1   CustomerId       10000 non-null  int64  \n",
      " 2   Surname          10000 non-null  object \n",
      " 3   CreditScore      10000 non-null  int64  \n",
      " 4   Geography        10000 non-null  object \n",
      " 5   Gender           10000 non-null  object \n",
      " 6   Age              10000 non-null  int64  \n",
      " 7   Tenure           10000 non-null  int64  \n",
      " 8   Balance          10000 non-null  float64\n",
      " 9   NumOfProducts    10000 non-null  int64  \n",
      " 10  HasCrCard        10000 non-null  int64  \n",
      " 11  IsActiveMember   10000 non-null  int64  \n",
      " 12  EstimatedSalary  10000 non-null  float64\n",
      " 13  Exited           10000 non-null  int64  \n",
      "dtypes: float64(2), int64(9), object(3)\n",
      "memory usage: 1.1+ MB\n"
     ]
    }
   ],
   "source": [
    "# Provide a concise summary of the DataFrame df, including information about the index, column data types, \n",
    "# non-null values, and memory usage.\n",
    "df.info()"
   ]
  },
  {
   "cell_type": "markdown",
   "id": "2d0ae59f",
   "metadata": {},
   "source": [
    "## Check missing values"
   ]
  },
  {
   "cell_type": "code",
   "execution_count": 11,
   "id": "08fb30d2",
   "metadata": {},
   "outputs": [
    {
     "data": {
      "text/plain": [
       "RowNumber          0\n",
       "CustomerId         0\n",
       "Surname            0\n",
       "CreditScore        0\n",
       "Geography          0\n",
       "Gender             0\n",
       "Age                0\n",
       "Tenure             0\n",
       "Balance            0\n",
       "NumOfProducts      0\n",
       "HasCrCard          0\n",
       "IsActiveMember     0\n",
       "EstimatedSalary    0\n",
       "Exited             0\n",
       "dtype: int64"
      ]
     },
     "execution_count": 11,
     "metadata": {},
     "output_type": "execute_result"
    }
   ],
   "source": [
    "# Calculate the number of missing values (null values) in each column of the DataFrame df\n",
    "df.isnull().sum()"
   ]
  },
  {
   "cell_type": "code",
   "execution_count": 12,
   "id": "cdeca149",
   "metadata": {},
   "outputs": [],
   "source": [
    "# There is no missing values in the dataset."
   ]
  },
  {
   "cell_type": "markdown",
   "id": "b6125785",
   "metadata": {},
   "source": [
    "## Check duplicates"
   ]
  },
  {
   "cell_type": "code",
   "execution_count": 13,
   "id": "cfddc1f5",
   "metadata": {},
   "outputs": [
    {
     "data": {
      "text/plain": [
       "0"
      ]
     },
     "execution_count": 13,
     "metadata": {},
     "output_type": "execute_result"
    }
   ],
   "source": [
    "# Count the number of duplicated rows in the DataFrame df\n",
    "df.duplicated().sum()"
   ]
  },
  {
   "cell_type": "code",
   "execution_count": 14,
   "id": "d196161f",
   "metadata": {},
   "outputs": [],
   "source": [
    "# There is no duplicates"
   ]
  },
  {
   "cell_type": "markdown",
   "id": "4fd8a68f",
   "metadata": {},
   "source": [
    "## Get an overall stats summary"
   ]
  },
  {
   "cell_type": "code",
   "execution_count": 15,
   "id": "fe3dc407",
   "metadata": {},
   "outputs": [
    {
     "data": {
      "text/html": [
       "<div>\n",
       "<style scoped>\n",
       "    .dataframe tbody tr th:only-of-type {\n",
       "        vertical-align: middle;\n",
       "    }\n",
       "\n",
       "    .dataframe tbody tr th {\n",
       "        vertical-align: top;\n",
       "    }\n",
       "\n",
       "    .dataframe thead th {\n",
       "        text-align: right;\n",
       "    }\n",
       "</style>\n",
       "<table border=\"1\" class=\"dataframe\">\n",
       "  <thead>\n",
       "    <tr style=\"text-align: right;\">\n",
       "      <th></th>\n",
       "      <th>RowNumber</th>\n",
       "      <th>CustomerId</th>\n",
       "      <th>CreditScore</th>\n",
       "      <th>Age</th>\n",
       "      <th>Tenure</th>\n",
       "      <th>Balance</th>\n",
       "      <th>NumOfProducts</th>\n",
       "      <th>HasCrCard</th>\n",
       "      <th>IsActiveMember</th>\n",
       "      <th>EstimatedSalary</th>\n",
       "      <th>Exited</th>\n",
       "    </tr>\n",
       "  </thead>\n",
       "  <tbody>\n",
       "    <tr>\n",
       "      <th>count</th>\n",
       "      <td>10000.00000</td>\n",
       "      <td>1.000000e+04</td>\n",
       "      <td>10000.000000</td>\n",
       "      <td>10000.000000</td>\n",
       "      <td>10000.000000</td>\n",
       "      <td>10000.000000</td>\n",
       "      <td>10000.000000</td>\n",
       "      <td>10000.00000</td>\n",
       "      <td>10000.000000</td>\n",
       "      <td>10000.000000</td>\n",
       "      <td>10000.000000</td>\n",
       "    </tr>\n",
       "    <tr>\n",
       "      <th>mean</th>\n",
       "      <td>5000.50000</td>\n",
       "      <td>1.569094e+07</td>\n",
       "      <td>650.528800</td>\n",
       "      <td>38.921800</td>\n",
       "      <td>5.012800</td>\n",
       "      <td>76485.889288</td>\n",
       "      <td>1.530200</td>\n",
       "      <td>0.70550</td>\n",
       "      <td>0.515100</td>\n",
       "      <td>100090.239881</td>\n",
       "      <td>0.203700</td>\n",
       "    </tr>\n",
       "    <tr>\n",
       "      <th>std</th>\n",
       "      <td>2886.89568</td>\n",
       "      <td>7.193619e+04</td>\n",
       "      <td>96.653299</td>\n",
       "      <td>10.487806</td>\n",
       "      <td>2.892174</td>\n",
       "      <td>62397.405202</td>\n",
       "      <td>0.581654</td>\n",
       "      <td>0.45584</td>\n",
       "      <td>0.499797</td>\n",
       "      <td>57510.492818</td>\n",
       "      <td>0.402769</td>\n",
       "    </tr>\n",
       "    <tr>\n",
       "      <th>min</th>\n",
       "      <td>1.00000</td>\n",
       "      <td>1.556570e+07</td>\n",
       "      <td>350.000000</td>\n",
       "      <td>18.000000</td>\n",
       "      <td>0.000000</td>\n",
       "      <td>0.000000</td>\n",
       "      <td>1.000000</td>\n",
       "      <td>0.00000</td>\n",
       "      <td>0.000000</td>\n",
       "      <td>11.580000</td>\n",
       "      <td>0.000000</td>\n",
       "    </tr>\n",
       "    <tr>\n",
       "      <th>25%</th>\n",
       "      <td>2500.75000</td>\n",
       "      <td>1.562853e+07</td>\n",
       "      <td>584.000000</td>\n",
       "      <td>32.000000</td>\n",
       "      <td>3.000000</td>\n",
       "      <td>0.000000</td>\n",
       "      <td>1.000000</td>\n",
       "      <td>0.00000</td>\n",
       "      <td>0.000000</td>\n",
       "      <td>51002.110000</td>\n",
       "      <td>0.000000</td>\n",
       "    </tr>\n",
       "    <tr>\n",
       "      <th>50%</th>\n",
       "      <td>5000.50000</td>\n",
       "      <td>1.569074e+07</td>\n",
       "      <td>652.000000</td>\n",
       "      <td>37.000000</td>\n",
       "      <td>5.000000</td>\n",
       "      <td>97198.540000</td>\n",
       "      <td>1.000000</td>\n",
       "      <td>1.00000</td>\n",
       "      <td>1.000000</td>\n",
       "      <td>100193.915000</td>\n",
       "      <td>0.000000</td>\n",
       "    </tr>\n",
       "    <tr>\n",
       "      <th>75%</th>\n",
       "      <td>7500.25000</td>\n",
       "      <td>1.575323e+07</td>\n",
       "      <td>718.000000</td>\n",
       "      <td>44.000000</td>\n",
       "      <td>7.000000</td>\n",
       "      <td>127644.240000</td>\n",
       "      <td>2.000000</td>\n",
       "      <td>1.00000</td>\n",
       "      <td>1.000000</td>\n",
       "      <td>149388.247500</td>\n",
       "      <td>0.000000</td>\n",
       "    </tr>\n",
       "    <tr>\n",
       "      <th>max</th>\n",
       "      <td>10000.00000</td>\n",
       "      <td>1.581569e+07</td>\n",
       "      <td>850.000000</td>\n",
       "      <td>92.000000</td>\n",
       "      <td>10.000000</td>\n",
       "      <td>250898.090000</td>\n",
       "      <td>4.000000</td>\n",
       "      <td>1.00000</td>\n",
       "      <td>1.000000</td>\n",
       "      <td>199992.480000</td>\n",
       "      <td>1.000000</td>\n",
       "    </tr>\n",
       "  </tbody>\n",
       "</table>\n",
       "</div>"
      ],
      "text/plain": [
       "         RowNumber    CustomerId   CreditScore           Age        Tenure  \\\n",
       "count  10000.00000  1.000000e+04  10000.000000  10000.000000  10000.000000   \n",
       "mean    5000.50000  1.569094e+07    650.528800     38.921800      5.012800   \n",
       "std     2886.89568  7.193619e+04     96.653299     10.487806      2.892174   \n",
       "min        1.00000  1.556570e+07    350.000000     18.000000      0.000000   \n",
       "25%     2500.75000  1.562853e+07    584.000000     32.000000      3.000000   \n",
       "50%     5000.50000  1.569074e+07    652.000000     37.000000      5.000000   \n",
       "75%     7500.25000  1.575323e+07    718.000000     44.000000      7.000000   \n",
       "max    10000.00000  1.581569e+07    850.000000     92.000000     10.000000   \n",
       "\n",
       "             Balance  NumOfProducts    HasCrCard  IsActiveMember  \\\n",
       "count   10000.000000   10000.000000  10000.00000    10000.000000   \n",
       "mean    76485.889288       1.530200      0.70550        0.515100   \n",
       "std     62397.405202       0.581654      0.45584        0.499797   \n",
       "min         0.000000       1.000000      0.00000        0.000000   \n",
       "25%         0.000000       1.000000      0.00000        0.000000   \n",
       "50%     97198.540000       1.000000      1.00000        1.000000   \n",
       "75%    127644.240000       2.000000      1.00000        1.000000   \n",
       "max    250898.090000       4.000000      1.00000        1.000000   \n",
       "\n",
       "       EstimatedSalary        Exited  \n",
       "count     10000.000000  10000.000000  \n",
       "mean     100090.239881      0.203700  \n",
       "std       57510.492818      0.402769  \n",
       "min          11.580000      0.000000  \n",
       "25%       51002.110000      0.000000  \n",
       "50%      100193.915000      0.000000  \n",
       "75%      149388.247500      0.000000  \n",
       "max      199992.480000      1.000000  "
      ]
     },
     "execution_count": 15,
     "metadata": {},
     "output_type": "execute_result"
    }
   ],
   "source": [
    "# Generate descriptive statistics of the numerical columns in a DataFrame.\n",
    "df.describe()"
   ]
  },
  {
   "cell_type": "markdown",
   "id": "826167e7",
   "metadata": {},
   "source": [
    "## Dropping Irrelevant Features"
   ]
  },
  {
   "cell_type": "code",
   "execution_count": 16,
   "id": "c94eb4b3",
   "metadata": {},
   "outputs": [],
   "source": [
    "# RowNumber, CustomerId, CustomerId: They do not provide any meaningful information related to the target variable.\n",
    "df = df.drop(['RowNumber', 'CustomerId', 'Surname'],axis=1)"
   ]
  },
  {
   "cell_type": "code",
   "execution_count": 17,
   "id": "837bf750",
   "metadata": {},
   "outputs": [
    {
     "data": {
      "text/html": [
       "<div>\n",
       "<style scoped>\n",
       "    .dataframe tbody tr th:only-of-type {\n",
       "        vertical-align: middle;\n",
       "    }\n",
       "\n",
       "    .dataframe tbody tr th {\n",
       "        vertical-align: top;\n",
       "    }\n",
       "\n",
       "    .dataframe thead th {\n",
       "        text-align: right;\n",
       "    }\n",
       "</style>\n",
       "<table border=\"1\" class=\"dataframe\">\n",
       "  <thead>\n",
       "    <tr style=\"text-align: right;\">\n",
       "      <th></th>\n",
       "      <th>CreditScore</th>\n",
       "      <th>Geography</th>\n",
       "      <th>Gender</th>\n",
       "      <th>Age</th>\n",
       "      <th>Tenure</th>\n",
       "      <th>Balance</th>\n",
       "      <th>NumOfProducts</th>\n",
       "      <th>HasCrCard</th>\n",
       "      <th>IsActiveMember</th>\n",
       "      <th>EstimatedSalary</th>\n",
       "      <th>Exited</th>\n",
       "    </tr>\n",
       "  </thead>\n",
       "  <tbody>\n",
       "    <tr>\n",
       "      <th>0</th>\n",
       "      <td>619</td>\n",
       "      <td>France</td>\n",
       "      <td>Female</td>\n",
       "      <td>42</td>\n",
       "      <td>2</td>\n",
       "      <td>0.00</td>\n",
       "      <td>1</td>\n",
       "      <td>1</td>\n",
       "      <td>1</td>\n",
       "      <td>101348.88</td>\n",
       "      <td>1</td>\n",
       "    </tr>\n",
       "    <tr>\n",
       "      <th>1</th>\n",
       "      <td>608</td>\n",
       "      <td>Spain</td>\n",
       "      <td>Female</td>\n",
       "      <td>41</td>\n",
       "      <td>1</td>\n",
       "      <td>83807.86</td>\n",
       "      <td>1</td>\n",
       "      <td>0</td>\n",
       "      <td>1</td>\n",
       "      <td>112542.58</td>\n",
       "      <td>0</td>\n",
       "    </tr>\n",
       "    <tr>\n",
       "      <th>2</th>\n",
       "      <td>502</td>\n",
       "      <td>France</td>\n",
       "      <td>Female</td>\n",
       "      <td>42</td>\n",
       "      <td>8</td>\n",
       "      <td>159660.80</td>\n",
       "      <td>3</td>\n",
       "      <td>1</td>\n",
       "      <td>0</td>\n",
       "      <td>113931.57</td>\n",
       "      <td>1</td>\n",
       "    </tr>\n",
       "    <tr>\n",
       "      <th>3</th>\n",
       "      <td>699</td>\n",
       "      <td>France</td>\n",
       "      <td>Female</td>\n",
       "      <td>39</td>\n",
       "      <td>1</td>\n",
       "      <td>0.00</td>\n",
       "      <td>2</td>\n",
       "      <td>0</td>\n",
       "      <td>0</td>\n",
       "      <td>93826.63</td>\n",
       "      <td>0</td>\n",
       "    </tr>\n",
       "    <tr>\n",
       "      <th>4</th>\n",
       "      <td>850</td>\n",
       "      <td>Spain</td>\n",
       "      <td>Female</td>\n",
       "      <td>43</td>\n",
       "      <td>2</td>\n",
       "      <td>125510.82</td>\n",
       "      <td>1</td>\n",
       "      <td>1</td>\n",
       "      <td>1</td>\n",
       "      <td>79084.10</td>\n",
       "      <td>0</td>\n",
       "    </tr>\n",
       "  </tbody>\n",
       "</table>\n",
       "</div>"
      ],
      "text/plain": [
       "   CreditScore Geography  Gender  Age  Tenure    Balance  NumOfProducts  \\\n",
       "0          619    France  Female   42       2       0.00              1   \n",
       "1          608     Spain  Female   41       1   83807.86              1   \n",
       "2          502    France  Female   42       8  159660.80              3   \n",
       "3          699    France  Female   39       1       0.00              2   \n",
       "4          850     Spain  Female   43       2  125510.82              1   \n",
       "\n",
       "   HasCrCard  IsActiveMember  EstimatedSalary  Exited  \n",
       "0          1               1        101348.88       1  \n",
       "1          0               1        112542.58       0  \n",
       "2          1               0        113931.57       1  \n",
       "3          0               0         93826.63       0  \n",
       "4          1               1         79084.10       0  "
      ]
     },
     "execution_count": 17,
     "metadata": {},
     "output_type": "execute_result"
    }
   ],
   "source": [
    "df.head()"
   ]
  },
  {
   "cell_type": "markdown",
   "id": "19f82719",
   "metadata": {},
   "source": [
    "## Outliers Detection"
   ]
  },
  {
   "cell_type": "code",
   "execution_count": 18,
   "id": "f1821a09",
   "metadata": {},
   "outputs": [],
   "source": [
    "# Subset the data for the variable of Balance\n",
    "bal = df['Balance']"
   ]
  },
  {
   "cell_type": "code",
   "execution_count": 19,
   "id": "59b52c57",
   "metadata": {},
   "outputs": [
    {
     "data": {
      "image/png": "[encoded data removed]",
      "text/plain": [
       "<Figure size 640x480 with 1 Axes>"
      ]
     },
     "metadata": {},
     "output_type": "display_data"
    }
   ],
   "source": [
    "# Import seaborn and matplotlib libraries\n",
    "import seaborn as sns\n",
    "import matplotlib.pyplot as plt\n",
    "\n",
    "# Boxplot of GRE score using seaborn\n",
    "sns.boxplot(bal, color='azure')\n",
    "\n",
    "# Add a title\n",
    "plt.title(\"Boxplot of Balance\")\n",
    "\n",
    "# Label the x and y axes\n",
    "plt.xlabel(\"Identify Outliers\")\n",
    "plt.ylabel(\"Balance\")\n",
    "\n",
    "# Show the plot\n",
    "plt.show()"
   ]
  },
  {
   "cell_type": "code",
   "execution_count": 20,
   "id": "3d6d15c9",
   "metadata": {},
   "outputs": [],
   "source": [
    "# I calculate the z-scores for each data point and determine if any values fall outside a certain threshold,\n",
    "# values that are more than a few standard deviations away from the mean can be considered outliers."
   ]
  },
  {
   "cell_type": "code",
   "execution_count": 21,
   "id": "c908b533",
   "metadata": {},
   "outputs": [
    {
     "name": "stdout",
     "output_type": "stream",
     "text": [
      "Identified outliers:\n",
      "Series([], Name: Balance, dtype: float64)\n"
     ]
    }
   ],
   "source": [
    "# Calculate the mean, median, and standard deviation for Balance\n",
    "mean = bal.mean()\n",
    "median = bal.median()\n",
    "std = bal.std()\n",
    "# Define the threshold for outliers \n",
    "# which is set to more than 3 standard deviations away from the mean \n",
    "threshold = 3\n",
    "# Calculate the z-scores for each data point.\n",
    "# Subtracts the mean from each data point and then divides by the standard deviation to standardize the data.\n",
    "# Calculating the z-scores, I can determine how far each data point deviates from the mean in terms of standard deviations.\n",
    "# Positive z-scores indicate values above the mean, while negative z-scores indicate values below the mean.\n",
    "z_scores = (bal - mean) / std\n",
    "\n",
    "# Identify the outliers based on the threshold.\n",
    "# The abs() function is used to take the absolute value of each z-score, \n",
    "# ensuring that both positive and negative deviations from the mean are considered.\n",
    "# The resulting outliers are stored in the outliers variable, \n",
    "# which contains the subset of \"bal\" values that are identified as outliers \n",
    "# based on their z-scores exceeding the threshold of 3.\n",
    "outliers = bal[abs(z_scores) > threshold]\n",
    "\n",
    "# Print the identified outliers\n",
    "print(\"Identified outliers:\")\n",
    "print(outliers)"
   ]
  },
  {
   "cell_type": "code",
   "execution_count": 22,
   "id": "dda8293d",
   "metadata": {},
   "outputs": [],
   "source": [
    "# There is no outliers for Balance in the z-scores method."
   ]
  },
  {
   "cell_type": "code",
   "execution_count": 23,
   "id": "a842af94",
   "metadata": {},
   "outputs": [],
   "source": [
    "# Subset the data for the variable of EstimatedSalary\n",
    "sal = df['EstimatedSalary']"
   ]
  },
  {
   "cell_type": "code",
   "execution_count": 24,
   "id": "9c5b2bbf",
   "metadata": {},
   "outputs": [
    {
     "data": {
      "image/png": "[encoded data removed]",
      "text/plain": [
       "<Figure size 640x480 with 1 Axes>"
      ]
     },
     "metadata": {},
     "output_type": "display_data"
    }
   ],
   "source": [
    "# Import seaborn and matplotlib libraries\n",
    "import seaborn as sns\n",
    "import matplotlib.pyplot as plt\n",
    "\n",
    "# Boxplot of GRE score using seaborn\n",
    "sns.boxplot(sal, color='brown')\n",
    "\n",
    "# Add a title\n",
    "plt.title(\"Boxplot of EstimatedSalary\")\n",
    "\n",
    "# Label the x and y axes\n",
    "plt.xlabel(\"Identify Outliers\")\n",
    "plt.ylabel(\"EstimatedSalary\")\n",
    "\n",
    "# Show the plot\n",
    "plt.show()"
   ]
  },
  {
   "cell_type": "code",
   "execution_count": 25,
   "id": "02fc9f44",
   "metadata": {},
   "outputs": [],
   "source": [
    "# I calculate the z-scores for each data point and determine if any values fall outside a certain threshold,\n",
    "# values that are more than a few standard deviations away from the mean can be considered outliers."
   ]
  },
  {
   "cell_type": "code",
   "execution_count": 26,
   "id": "5c9d19bb",
   "metadata": {},
   "outputs": [
    {
     "name": "stdout",
     "output_type": "stream",
     "text": [
      "Identified outliers:\n",
      "Series([], Name: EstimatedSalary, dtype: float64)\n"
     ]
    }
   ],
   "source": [
    "# Calculate the mean, median, and standard deviation for Balance\n",
    "mean = sal.mean()\n",
    "median = sal.median()\n",
    "std = sal.std()\n",
    "# Define the threshold for outliers \n",
    "# which is set to more than 3 standard deviations away from the mean \n",
    "threshold = 3\n",
    "# Calculate the z-scores for each data point.\n",
    "# Subtracts the mean from each data point and then divides by the standard deviation to standardize the data.\n",
    "# Calculating the z-scores, I can determine how far each data point deviates from the mean in terms of standard deviations.\n",
    "# Positive z-scores indicate values above the mean, while negative z-scores indicate values below the mean.\n",
    "z_scores = (sal - mean) / std\n",
    "\n",
    "# Identify the outliers based on the threshold.\n",
    "# The abs() function is used to take the absolute value of each z-score, \n",
    "# ensuring that both positive and negative deviations from the mean are considered.\n",
    "# The resulting outliers are stored in the outliers variable, \n",
    "# which contains the subset of \"sal\" values that are identified as outliers \n",
    "# based on their z-scores exceeding the threshold of 3.\n",
    "outliers = sal[abs(z_scores) > threshold]\n",
    "\n",
    "# Print the identified outliers\n",
    "print(\"Identified outliers:\")\n",
    "print(outliers)"
   ]
  },
  {
   "cell_type": "code",
   "execution_count": 27,
   "id": "546882d2",
   "metadata": {},
   "outputs": [],
   "source": [
    "# There is no outliers for EstimatedSalary in the z-scores method."
   ]
  },
  {
   "cell_type": "markdown",
   "id": "eb358dd7",
   "metadata": {},
   "source": [
    "## Data Analysis"
   ]
  },
  {
   "cell_type": "code",
   "execution_count": 28,
   "id": "5041b1e2",
   "metadata": {},
   "outputs": [
    {
     "data": {
      "text/plain": [
       "Index(['CreditScore', 'Geography', 'Gender', 'Age', 'Tenure', 'Balance',\n",
       "       'NumOfProducts', 'HasCrCard', 'IsActiveMember', 'EstimatedSalary',\n",
       "       'Exited'],\n",
       "      dtype='object')"
      ]
     },
     "execution_count": 28,
     "metadata": {},
     "output_type": "execute_result"
    }
   ],
   "source": [
    "# List columns\n",
    "df.columns"
   ]
  },
  {
   "cell_type": "code",
   "execution_count": 29,
   "id": "13039466",
   "metadata": {},
   "outputs": [
    {
     "data": {
      "text/plain": [
       "France     5014\n",
       "Germany    2509\n",
       "Spain      2477\n",
       "Name: Geography, dtype: int64"
      ]
     },
     "execution_count": 29,
     "metadata": {},
     "output_type": "execute_result"
    }
   ],
   "source": [
    "# Count unique value in column Geography column\n",
    "df['Geography'].value_counts()"
   ]
  },
  {
   "cell_type": "code",
   "execution_count": 30,
   "id": "e2d0f199",
   "metadata": {},
   "outputs": [
    {
     "data": {
      "image/png": "[encoded data removed]",
      "text/plain": [
       "<Figure size 640x480 with 1 Axes>"
      ]
     },
     "metadata": {},
     "output_type": "display_data"
    }
   ],
   "source": [
    "# Import few libraries\n",
    "import seaborn as sns\n",
    "import matplotlib.pyplot as plt\n",
    "# This line creates a count plot using seaborn's countplot function\n",
    "sns.countplot(x='Geography', data=df)\n",
    "# These lines set the title, x-axis label, and y-axis label for the plot using matplotlib's title, xlabel, and ylabel functions, respectively.\n",
    "plt.title('Count of Geography')\n",
    "plt.xlabel('Geography')\n",
    "plt.ylabel('Count')\n",
    "# Display the plot\n",
    "plt.show()"
   ]
  },
  {
   "cell_type": "code",
   "execution_count": 31,
   "id": "7815a93d",
   "metadata": {},
   "outputs": [],
   "source": [
    "# There are more French customers than Germany and Spain customers"
   ]
  },
  {
   "cell_type": "code",
   "execution_count": 32,
   "id": "14774893",
   "metadata": {},
   "outputs": [
    {
     "data": {
      "text/plain": [
       "0    7963\n",
       "1    2037\n",
       "Name: Exited, dtype: int64"
      ]
     },
     "execution_count": 32,
     "metadata": {},
     "output_type": "execute_result"
    }
   ],
   "source": [
    "# Compute the frequency count of unique values in the 'Exited' column of the DataFrame df. \n",
    "df['Exited'].value_counts()"
   ]
  },
  {
   "cell_type": "code",
   "execution_count": 33,
   "id": "10a35a93",
   "metadata": {},
   "outputs": [
    {
     "data": {
      "image/png": "[encoded data removed]",
      "text/plain": [
       "<Figure size 640x480 with 1 Axes>"
      ]
     },
     "metadata": {},
     "output_type": "display_data"
    }
   ],
   "source": [
    "# Import few libraries\n",
    "import seaborn as sns\n",
    "import matplotlib.pyplot as plt\n",
    "# This line creates a count plot using seaborn's countplot function\n",
    "sns.countplot(x='Exited', data=df)\n",
    "# These lines set the title, x-axis label, and y-axis label for the plot using matplotlib's title, xlabel, and ylabel functions, respectively.\n",
    "plt.title('Count of Exited')\n",
    "plt.xlabel('Exited')\n",
    "plt.ylabel('Count')\n",
    "# Display the plot\n",
    "plt.show()"
   ]
  },
  {
   "cell_type": "code",
   "execution_count": 34,
   "id": "162aa3d4",
   "metadata": {},
   "outputs": [],
   "source": [
    "# There is an imbalanced exited counts in the dataset"
   ]
  },
  {
   "cell_type": "markdown",
   "id": "d8b9803f",
   "metadata": {},
   "source": [
    "## Encoding Categorical Data"
   ]
  },
  {
   "cell_type": "code",
   "execution_count": 35,
   "id": "b5b4a59e",
   "metadata": {},
   "outputs": [],
   "source": [
    "# Create dummy variables for categorical columns in the DataFrame df using one-hot encoding and \n",
    "# drops the first level of each categorical variable to avoid multicollinearity issues.\n",
    "df = pd.get_dummies(df,drop_first=True)"
   ]
  },
  {
   "cell_type": "code",
   "execution_count": 36,
   "id": "92ae0678",
   "metadata": {},
   "outputs": [
    {
     "data": {
      "text/html": [
       "<div>\n",
       "<style scoped>\n",
       "    .dataframe tbody tr th:only-of-type {\n",
       "        vertical-align: middle;\n",
       "    }\n",
       "\n",
       "    .dataframe tbody tr th {\n",
       "        vertical-align: top;\n",
       "    }\n",
       "\n",
       "    .dataframe thead th {\n",
       "        text-align: right;\n",
       "    }\n",
       "</style>\n",
       "<table border=\"1\" class=\"dataframe\">\n",
       "  <thead>\n",
       "    <tr style=\"text-align: right;\">\n",
       "      <th></th>\n",
       "      <th>CreditScore</th>\n",
       "      <th>Age</th>\n",
       "      <th>Tenure</th>\n",
       "      <th>Balance</th>\n",
       "      <th>NumOfProducts</th>\n",
       "      <th>HasCrCard</th>\n",
       "      <th>IsActiveMember</th>\n",
       "      <th>EstimatedSalary</th>\n",
       "      <th>Exited</th>\n",
       "      <th>Geography_Germany</th>\n",
       "      <th>Geography_Spain</th>\n",
       "      <th>Gender_Male</th>\n",
       "    </tr>\n",
       "  </thead>\n",
       "  <tbody>\n",
       "    <tr>\n",
       "      <th>0</th>\n",
       "      <td>619</td>\n",
       "      <td>42</td>\n",
       "      <td>2</td>\n",
       "      <td>0.00</td>\n",
       "      <td>1</td>\n",
       "      <td>1</td>\n",
       "      <td>1</td>\n",
       "      <td>101348.88</td>\n",
       "      <td>1</td>\n",
       "      <td>0</td>\n",
       "      <td>0</td>\n",
       "      <td>0</td>\n",
       "    </tr>\n",
       "    <tr>\n",
       "      <th>1</th>\n",
       "      <td>608</td>\n",
       "      <td>41</td>\n",
       "      <td>1</td>\n",
       "      <td>83807.86</td>\n",
       "      <td>1</td>\n",
       "      <td>0</td>\n",
       "      <td>1</td>\n",
       "      <td>112542.58</td>\n",
       "      <td>0</td>\n",
       "      <td>0</td>\n",
       "      <td>1</td>\n",
       "      <td>0</td>\n",
       "    </tr>\n",
       "    <tr>\n",
       "      <th>2</th>\n",
       "      <td>502</td>\n",
       "      <td>42</td>\n",
       "      <td>8</td>\n",
       "      <td>159660.80</td>\n",
       "      <td>3</td>\n",
       "      <td>1</td>\n",
       "      <td>0</td>\n",
       "      <td>113931.57</td>\n",
       "      <td>1</td>\n",
       "      <td>0</td>\n",
       "      <td>0</td>\n",
       "      <td>0</td>\n",
       "    </tr>\n",
       "    <tr>\n",
       "      <th>3</th>\n",
       "      <td>699</td>\n",
       "      <td>39</td>\n",
       "      <td>1</td>\n",
       "      <td>0.00</td>\n",
       "      <td>2</td>\n",
       "      <td>0</td>\n",
       "      <td>0</td>\n",
       "      <td>93826.63</td>\n",
       "      <td>0</td>\n",
       "      <td>0</td>\n",
       "      <td>0</td>\n",
       "      <td>0</td>\n",
       "    </tr>\n",
       "    <tr>\n",
       "      <th>4</th>\n",
       "      <td>850</td>\n",
       "      <td>43</td>\n",
       "      <td>2</td>\n",
       "      <td>125510.82</td>\n",
       "      <td>1</td>\n",
       "      <td>1</td>\n",
       "      <td>1</td>\n",
       "      <td>79084.10</td>\n",
       "      <td>0</td>\n",
       "      <td>0</td>\n",
       "      <td>1</td>\n",
       "      <td>0</td>\n",
       "    </tr>\n",
       "  </tbody>\n",
       "</table>\n",
       "</div>"
      ],
      "text/plain": [
       "   CreditScore  Age  Tenure    Balance  NumOfProducts  HasCrCard  \\\n",
       "0          619   42       2       0.00              1          1   \n",
       "1          608   41       1   83807.86              1          0   \n",
       "2          502   42       8  159660.80              3          1   \n",
       "3          699   39       1       0.00              2          0   \n",
       "4          850   43       2  125510.82              1          1   \n",
       "\n",
       "   IsActiveMember  EstimatedSalary  Exited  Geography_Germany  \\\n",
       "0               1        101348.88       1                  0   \n",
       "1               1        112542.58       0                  0   \n",
       "2               0        113931.57       1                  0   \n",
       "3               0         93826.63       0                  0   \n",
       "4               1         79084.10       0                  0   \n",
       "\n",
       "   Geography_Spain  Gender_Male  \n",
       "0                0            0  \n",
       "1                1            0  \n",
       "2                0            0  \n",
       "3                0            0  \n",
       "4                1            0  "
      ]
     },
     "execution_count": 36,
     "metadata": {},
     "output_type": "execute_result"
    }
   ],
   "source": [
    "# Show few records\n",
    "df.head()"
   ]
  },
  {
   "cell_type": "markdown",
   "id": "f4cef7f4",
   "metadata": {},
   "source": [
    "## Store Feature Matrix In X and Response(Target) In Vector y"
   ]
  },
  {
   "cell_type": "code",
   "execution_count": 37,
   "id": "83dccb59",
   "metadata": {},
   "outputs": [],
   "source": [
    "# This line creates a new DataFrame X by dropping the column labeled 'Exited ' from the original DataFrame df\n",
    "X = df.drop('Exited',axis=1)\n",
    "# This line creates a Series y containing only the values from the column labeled 'Exited' in the original DataFrame df.\n",
    "# The resulting Series y contains the values of the 'Exited' column, which is the target variable I want to predict.\n",
    "y = df['Exited']"
   ]
  },
  {
   "cell_type": "markdown",
   "id": "3b9e68e2",
   "metadata": {},
   "source": [
    "## Handling Imbalanced Data With SMOTE"
   ]
  },
  {
   "cell_type": "code",
   "execution_count": 38,
   "id": "fab6a849",
   "metadata": {},
   "outputs": [],
   "source": [
    "# This line imports the SMOTE class from the imbalanced-learn library, \n",
    "# which provides a set of tools for dealing with imbalanced datasets in machine learning.\n",
    "from imblearn.over_sampling import SMOTE\n",
    "# This line applies SMOTE to the feature matrix X and target vector y. \n",
    "# The fit_resample() method of the SMOTE class is called to perform the oversampling. \n",
    "X_res,y_res = SMOTE().fit_resample(X,y)"
   ]
  },
  {
   "cell_type": "code",
   "execution_count": 39,
   "id": "cadca93a",
   "metadata": {},
   "outputs": [
    {
     "data": {
      "text/plain": [
       "1    7963\n",
       "0    7963\n",
       "Name: Exited, dtype: int64"
      ]
     },
     "execution_count": 39,
     "metadata": {},
     "output_type": "execute_result"
    }
   ],
   "source": [
    "# Show count of unique values\n",
    "y_res.value_counts()"
   ]
  },
  {
   "cell_type": "markdown",
   "id": "d20cfee7",
   "metadata": {},
   "source": [
    "## Splitting The Dataset Into The Training Set And Test Set"
   ]
  },
  {
   "cell_type": "code",
   "execution_count": 40,
   "id": "44114cac",
   "metadata": {},
   "outputs": [],
   "source": [
    "# Import the train_test_split function from the sklearn.model_selection module and \n",
    "# then splits the dataset into training and testing sets.\n",
    "from sklearn.model_selection import train_test_split\n",
    "# X: This is the DataFrame containing the features (independent variables).\n",
    "# y: This is the Series containing the target variable (dependent variable).\n",
    "# test_size=0.20: This parameter specifies the proportion of the dataset that should be included in the test split. \n",
    "# In this case, it's set to 0.20, meaning that 20% of the data will be used for testing, \n",
    "# and the remaining 80% will be used for training.\n",
    "# random_state=42: This parameter sets the random seed for reproducibility\n",
    "X_train,X_test,y_train,y_test=train_test_split(X_res,y_res,test_size=0.20,random_state=42)"
   ]
  },
  {
   "cell_type": "markdown",
   "id": "3794eaa7",
   "metadata": {},
   "source": [
    "## Feature Scaling"
   ]
  },
  {
   "cell_type": "code",
   "execution_count": 41,
   "id": "c85bf20f",
   "metadata": {},
   "outputs": [],
   "source": [
    "# This line imports the StandardScaler class from the sklearn.preprocessing module.\n",
    "from sklearn.preprocessing import StandardScaler\n",
    "# This line creates an instance of the StandardScaler class and assigns it to the variable sc. \n",
    "sc = StandardScaler()"
   ]
  },
  {
   "cell_type": "code",
   "execution_count": 42,
   "id": "f0aada4e",
   "metadata": {},
   "outputs": [],
   "source": [
    "# This line standardizes the training features (X_train) by fitting the StandardScaler (sc) \n",
    "# to the training data and transforming it. \n",
    "X_train=sc.fit_transform(X_train)\n",
    "# This line standardizes the testing features (X_test) using the mean and standard deviation calculated from the training set.\n",
    "X_test=sc.transform(X_test)"
   ]
  },
  {
   "cell_type": "code",
   "execution_count": 43,
   "id": "a53a7c7b",
   "metadata": {},
   "outputs": [
    {
     "data": {
      "text/plain": [
       "array([[ 1.49186996, -0.39901926,  0.0758692 , ...,  1.73495602,\n",
       "        -0.46137976, -0.84962009],\n",
       "       [ 1.09942235,  0.10143412, -1.40150735, ..., -0.57638349,\n",
       "        -0.46137976,  1.17699664],\n",
       "       [ 0.14010595, -0.69929129, -0.66281907, ...,  1.73495602,\n",
       "        -0.46137976, -0.84962009],\n",
       "       ...,\n",
       "       [ 0.20551389,  0.2015248 ,  1.18390161, ..., -0.57638349,\n",
       "        -0.46137976,  1.17699664],\n",
       "       [ 1.40465938,  0.6018875 , -0.66281907, ..., -0.57638349,\n",
       "        -0.46137976, -0.84962009],\n",
       "       [ 0.53255357,  1.00225021, -1.40150735, ...,  1.73495602,\n",
       "        -0.46137976,  1.17699664]])"
      ]
     },
     "execution_count": 43,
     "metadata": {},
     "output_type": "execute_result"
    }
   ],
   "source": [
    "# Show the result of X_train\n",
    "X_train"
   ]
  },
  {
   "cell_type": "code",
   "execution_count": 44,
   "id": "bffdb9cf",
   "metadata": {},
   "outputs": [
    {
     "data": {
      "text/plain": [
       "array([[-1.23346070e+00, -1.19974467e+00,  7.58692000e-02, ...,\n",
       "        -5.76383486e-01, -4.61379765e-01, -8.49620094e-01],\n",
       "       [-4.59466790e-01,  1.34344628e-03, -2.93474937e-01, ...,\n",
       "         1.73495602e+00, -4.61379765e-01, -8.49620094e-01],\n",
       "       [ 3.47231085e-01, -9.99563317e-01,  1.55324575e+00, ...,\n",
       "        -5.76383486e-01,  2.16741192e+00, -8.49620094e-01],\n",
       "       ...,\n",
       "       [ 1.07401987e-01, -2.98928583e-01,  4.45213337e-01, ...,\n",
       "        -5.76383486e-01, -4.61379765e-01, -8.49620094e-01],\n",
       "       [ 1.11032367e+00,  1.10234089e+00,  4.45213337e-01, ...,\n",
       "         1.73495602e+00, -4.61379765e-01, -8.49620094e-01],\n",
       "       [ 3.36329762e-01,  1.40261292e+00, -1.03216321e+00, ...,\n",
       "        -5.76383486e-01, -4.61379765e-01,  1.17699664e+00]])"
      ]
     },
     "execution_count": 44,
     "metadata": {},
     "output_type": "execute_result"
    }
   ],
   "source": [
    "# Show the result of X_test\n",
    "X_test"
   ]
  },
  {
   "cell_type": "markdown",
   "id": "38799486",
   "metadata": {},
   "source": [
    "## Import The models"
   ]
  },
  {
   "cell_type": "code",
   "execution_count": 45,
   "id": "21782f32",
   "metadata": {},
   "outputs": [],
   "source": [
    "# Import few libraries\n",
    "from sklearn.linear_model import LogisticRegression\n",
    "from sklearn import svm\n",
    "from sklearn.neighbors import KNeighborsClassifier\n",
    "from sklearn.tree import DecisionTreeClassifier\n",
    "from sklearn.ensemble import RandomForestClassifier\n",
    "from sklearn.ensemble import GradientBoostingClassifier\n",
    "from sklearn.metrics import accuracy_score\n",
    "from sklearn.metrics import precision_score,recall_score,f1_score"
   ]
  },
  {
   "cell_type": "markdown",
   "id": "31150429",
   "metadata": {},
   "source": [
    "## Model Training & Evaluation"
   ]
  },
  {
   "cell_type": "code",
   "execution_count": 46,
   "id": "6a73c233",
   "metadata": {},
   "outputs": [
    {
     "name": "stdout",
     "output_type": "stream",
     "text": [
      "Accuacy score of lr: 0.7818581293157565\n",
      "Precision score of lr: 0.7715189873417722\n"
     ]
    }
   ],
   "source": [
    "# This line creates an instance of the LogisticRegression class from scikit-learn's linear_model module\n",
    "lr = LogisticRegression()\n",
    "# This line trains the logistic regression model (lr) on the training data (X_train and y_train) using the fit method\n",
    "lr.fit(X_train,y_train)\n",
    "# This line uses the trained logistic regression model (lr) to predict the labels for the test data (X_test) using the predict method. \n",
    "y_pred_lr= lr.predict(X_test)\n",
    "# Print the result\n",
    "print('Accuacy score of lr:', accuracy_score(y_test,y_pred_lr))\n",
    "print('Precision score of lr:', precision_score(y_test,y_pred_lr))"
   ]
  },
  {
   "cell_type": "code",
   "execution_count": 47,
   "id": "2f86bd70",
   "metadata": {},
   "outputs": [
    {
     "name": "stdout",
     "output_type": "stream",
     "text": [
      "Accuacy score of svm: 0.8345888261142499\n",
      "Precision score of svm: 0.8292682926829268\n"
     ]
    }
   ],
   "source": [
    "# Repeat the same for SVM\n",
    "svm = svm.SVC()\n",
    "svm.fit(X_train,y_train)\n",
    "y_pred_svm = svm.predict(X_test)\n",
    "print('Accuacy score of svm:', accuracy_score(y_test,y_pred_svm))\n",
    "print('Precision score of svm:', precision_score(y_test,y_pred_svm))"
   ]
  },
  {
   "cell_type": "code",
   "execution_count": 48,
   "id": "a21f843c",
   "metadata": {},
   "outputs": [
    {
     "name": "stdout",
     "output_type": "stream",
     "text": [
      "Accuacy score of knn: 0.8129315756434401\n",
      "Precision score of knn: 0.7973896830329397\n"
     ]
    }
   ],
   "source": [
    "# Repeat the same for KNN\n",
    "knn=KNeighborsClassifier()\n",
    "knn.fit(X_train,y_train)\n",
    "y_pred_knn = knn.predict(X_test)\n",
    "print('Accuacy score of knn:', accuracy_score(y_test,y_pred_knn))\n",
    "print('Precision score of knn:', precision_score(y_test,y_pred_knn))"
   ]
  },
  {
   "cell_type": "code",
   "execution_count": 49,
   "id": "acf93025",
   "metadata": {},
   "outputs": [
    {
     "name": "stdout",
     "output_type": "stream",
     "text": [
      "Accuacy score of dt: 0.7937853107344632\n",
      "Precision score of dt: 0.7741738066095472\n"
     ]
    }
   ],
   "source": [
    "# Repeat the same for Decision Tree\n",
    "dt=DecisionTreeClassifier()\n",
    "dt.fit(X_train,y_train)\n",
    "y_pred_dt = dt.predict(X_test)\n",
    "print('Accuacy score of dt:', accuracy_score(y_test,y_pred_dt))\n",
    "print('Precision score of dt:', precision_score(y_test,y_pred_dt))"
   ]
  },
  {
   "cell_type": "code",
   "execution_count": 50,
   "id": "7919c82e",
   "metadata": {},
   "outputs": [
    {
     "name": "stdout",
     "output_type": "stream",
     "text": [
      "Accuacy score of rf: 0.8524795982423101\n",
      "Precision score of rf: 0.8451242829827916\n"
     ]
    }
   ],
   "source": [
    "# Repeat the same for RF\n",
    "rf = RandomForestClassifier()\n",
    "rf.fit(X_train,y_train)\n",
    "y_pred_rf = rf.predict(X_test)\n",
    "print('Accuacy score of rf:', accuracy_score(y_test,y_pred_rf))\n",
    "print('Precision score of rf:', precision_score(y_test,y_pred_rf))"
   ]
  },
  {
   "cell_type": "code",
   "execution_count": 51,
   "id": "29b5ac3b",
   "metadata": {},
   "outputs": [
    {
     "name": "stdout",
     "output_type": "stream",
     "text": [
      "Accuacy score of gr: 0.8430634023854363\n",
      "Precision score of gr: 0.8434442270058709\n"
     ]
    }
   ],
   "source": [
    "# Repeat the same for GBC\n",
    "gr = GradientBoostingClassifier()\n",
    "gr.fit(X_train,y_train)\n",
    "y_pred_gr = gr.predict(X_test)\n",
    "print('Accuacy score of gr:', accuracy_score(y_test,y_pred_gr))\n",
    "print('Precision score of gr:', precision_score(y_test,y_pred_gr))"
   ]
  },
  {
   "cell_type": "code",
   "execution_count": 52,
   "id": "5e2932f2",
   "metadata": {},
   "outputs": [],
   "source": [
    "# Create a DataFrame using a dictionary where the keys are column names ('Models' and 'ACC_SCORE') \n",
    "# and the values are lists containing the corresponding data.\n",
    "df_acc = pd.DataFrame({'Models':['LR','SVC','KNN','DT','RF','GBC'],\n",
    "                           'ACC_SCORE':[accuracy_score(y_test,y_pred_lr),\n",
    "                                       accuracy_score(y_test,y_pred_svm),\n",
    "                                       accuracy_score(y_test,y_pred_knn),\n",
    "                                       accuracy_score(y_test,y_pred_dt),\n",
    "                                       accuracy_score(y_test,y_pred_rf),\n",
    "                                       accuracy_score(y_test,y_pred_gr)]})"
   ]
  },
  {
   "cell_type": "code",
   "execution_count": 53,
   "id": "3c0bbb56",
   "metadata": {},
   "outputs": [
    {
     "data": {
      "text/html": [
       "<div>\n",
       "<style scoped>\n",
       "    .dataframe tbody tr th:only-of-type {\n",
       "        vertical-align: middle;\n",
       "    }\n",
       "\n",
       "    .dataframe tbody tr th {\n",
       "        vertical-align: top;\n",
       "    }\n",
       "\n",
       "    .dataframe thead th {\n",
       "        text-align: right;\n",
       "    }\n",
       "</style>\n",
       "<table border=\"1\" class=\"dataframe\">\n",
       "  <thead>\n",
       "    <tr style=\"text-align: right;\">\n",
       "      <th></th>\n",
       "      <th>Models</th>\n",
       "      <th>ACC_SCORE</th>\n",
       "    </tr>\n",
       "  </thead>\n",
       "  <tbody>\n",
       "    <tr>\n",
       "      <th>0</th>\n",
       "      <td>LR</td>\n",
       "      <td>0.781858</td>\n",
       "    </tr>\n",
       "    <tr>\n",
       "      <th>1</th>\n",
       "      <td>SVC</td>\n",
       "      <td>0.834589</td>\n",
       "    </tr>\n",
       "    <tr>\n",
       "      <th>2</th>\n",
       "      <td>KNN</td>\n",
       "      <td>0.812932</td>\n",
       "    </tr>\n",
       "    <tr>\n",
       "      <th>3</th>\n",
       "      <td>DT</td>\n",
       "      <td>0.793785</td>\n",
       "    </tr>\n",
       "    <tr>\n",
       "      <th>4</th>\n",
       "      <td>RF</td>\n",
       "      <td>0.852480</td>\n",
       "    </tr>\n",
       "    <tr>\n",
       "      <th>5</th>\n",
       "      <td>GBC</td>\n",
       "      <td>0.843063</td>\n",
       "    </tr>\n",
       "  </tbody>\n",
       "</table>\n",
       "</div>"
      ],
      "text/plain": [
       "  Models  ACC_SCORE\n",
       "0     LR   0.781858\n",
       "1    SVC   0.834589\n",
       "2    KNN   0.812932\n",
       "3     DT   0.793785\n",
       "4     RF   0.852480\n",
       "5    GBC   0.843063"
      ]
     },
     "execution_count": 53,
     "metadata": {},
     "output_type": "execute_result"
    }
   ],
   "source": [
    "# Show the result\n",
    "df_acc"
   ]
  },
  {
   "cell_type": "code",
   "execution_count": 54,
   "id": "c6e2feac",
   "metadata": {},
   "outputs": [
    {
     "data": {
      "image/png": "[encoded data removed]",
      "text/plain": [
       "<Figure size 640x480 with 1 Axes>"
      ]
     },
     "metadata": {},
     "output_type": "display_data"
    }
   ],
   "source": [
    "import seaborn as sns\n",
    "import matplotlib.pyplot as plt\n",
    "\n",
    "# Assuming df contains your data\n",
    "sns.set(style=\"whitegrid\")  # Set the style of the plot\n",
    "\n",
    "# Create the bar plot\n",
    "ax = sns.barplot(x='ACC_SCORE', y='Models', data=df_acc)\n",
    "\n",
    "# Adding labels and title\n",
    "plt.xlabel('Accuracy Score')\n",
    "plt.ylabel('Models')\n",
    "plt.title('Accuracy Score Comparison for Different Models')\n",
    "\n",
    "# Add text labels for each bar\n",
    "for index, row in df_acc.iterrows():\n",
    "    ax.text(row['ACC_SCORE'], index, f'{row[\"ACC_SCORE\"]:.3f}', va='center')\n",
    "\n",
    "# Display the plot\n",
    "plt.show()"
   ]
  },
  {
   "cell_type": "code",
   "execution_count": 55,
   "id": "3c6cd3d8",
   "metadata": {},
   "outputs": [],
   "source": [
    "# The Random Forest model is the best model."
   ]
  },
  {
   "cell_type": "code",
   "execution_count": 56,
   "id": "a0009208",
   "metadata": {},
   "outputs": [],
   "source": [
    "# Create a DataFrame using a dictionary where the keys are column names ('Models' and 'Precision Score') \n",
    "# and the values are lists containing the corresponding data.\n",
    "df_prec = pd.DataFrame({'Models':['LR','SVC','KNN','DT','RF','GBC'],\n",
    "                           'Precision_SCORE':[precision_score(y_test,y_pred_lr),\n",
    "                                       precision_score(y_test,y_pred_svm),\n",
    "                                       precision_score(y_test,y_pred_knn),\n",
    "                                       precision_score(y_test,y_pred_dt),\n",
    "                                       precision_score(y_test,y_pred_rf),\n",
    "                                       precision_score(y_test,y_pred_gr)]})"
   ]
  },
  {
   "cell_type": "code",
   "execution_count": 57,
   "id": "7dd46525",
   "metadata": {},
   "outputs": [
    {
     "data": {
      "text/html": [
       "<div>\n",
       "<style scoped>\n",
       "    .dataframe tbody tr th:only-of-type {\n",
       "        vertical-align: middle;\n",
       "    }\n",
       "\n",
       "    .dataframe tbody tr th {\n",
       "        vertical-align: top;\n",
       "    }\n",
       "\n",
       "    .dataframe thead th {\n",
       "        text-align: right;\n",
       "    }\n",
       "</style>\n",
       "<table border=\"1\" class=\"dataframe\">\n",
       "  <thead>\n",
       "    <tr style=\"text-align: right;\">\n",
       "      <th></th>\n",
       "      <th>Models</th>\n",
       "      <th>Precision_SCORE</th>\n",
       "    </tr>\n",
       "  </thead>\n",
       "  <tbody>\n",
       "    <tr>\n",
       "      <th>0</th>\n",
       "      <td>LR</td>\n",
       "      <td>0.771519</td>\n",
       "    </tr>\n",
       "    <tr>\n",
       "      <th>1</th>\n",
       "      <td>SVC</td>\n",
       "      <td>0.829268</td>\n",
       "    </tr>\n",
       "    <tr>\n",
       "      <th>2</th>\n",
       "      <td>KNN</td>\n",
       "      <td>0.797390</td>\n",
       "    </tr>\n",
       "    <tr>\n",
       "      <th>3</th>\n",
       "      <td>DT</td>\n",
       "      <td>0.774174</td>\n",
       "    </tr>\n",
       "    <tr>\n",
       "      <th>4</th>\n",
       "      <td>RF</td>\n",
       "      <td>0.845124</td>\n",
       "    </tr>\n",
       "    <tr>\n",
       "      <th>5</th>\n",
       "      <td>GBC</td>\n",
       "      <td>0.843444</td>\n",
       "    </tr>\n",
       "  </tbody>\n",
       "</table>\n",
       "</div>"
      ],
      "text/plain": [
       "  Models  Precision_SCORE\n",
       "0     LR         0.771519\n",
       "1    SVC         0.829268\n",
       "2    KNN         0.797390\n",
       "3     DT         0.774174\n",
       "4     RF         0.845124\n",
       "5    GBC         0.843444"
      ]
     },
     "execution_count": 57,
     "metadata": {},
     "output_type": "execute_result"
    }
   ],
   "source": [
    "# Show the result\n",
    "df_prec"
   ]
  },
  {
   "cell_type": "code",
   "execution_count": 58,
   "id": "061f28c8",
   "metadata": {},
   "outputs": [
    {
     "data": {
      "image/png": "[encoded data removed]",
      "text/plain": [
       "<Figure size 640x480 with 1 Axes>"
      ]
     },
     "metadata": {},
     "output_type": "display_data"
    }
   ],
   "source": [
    "import seaborn as sns\n",
    "import matplotlib.pyplot as plt\n",
    "\n",
    "# Assuming df contains your data\n",
    "sns.set(style=\"whitegrid\")  # Set the style of the plot\n",
    "\n",
    "# Create the bar plot\n",
    "ax = sns.barplot(x='Precision_SCORE', y='Models', data=df_prec)\n",
    "\n",
    "# Adding labels and title\n",
    "plt.xlabel('Precision Score')\n",
    "plt.ylabel('Models')\n",
    "plt.title('Precision Score Comparison for Different Models')\n",
    "\n",
    "# Add text labels for each bar\n",
    "for index, row in df_prec.iterrows():\n",
    "    ax.text(row['Precision_SCORE'], index, f'{row[\"Precision_SCORE\"]:.3f}', va='center')\n",
    "\n",
    "# Display the plot\n",
    "plt.show()"
   ]
  },
  {
   "cell_type": "code",
   "execution_count": 59,
   "id": "40394f2d",
   "metadata": {},
   "outputs": [],
   "source": [
    "# The Random Forest model is indeed the best model."
   ]
  },
  {
   "cell_type": "markdown",
   "id": "645fa173",
   "metadata": {},
   "source": [
    "## Save The Model"
   ]
  },
  {
   "cell_type": "code",
   "execution_count": 60,
   "id": "8d7870e8",
   "metadata": {},
   "outputs": [
    {
     "data": {
      "text/html": [
       "<style>#sk-container-id-1 {color: black;background-color: white;}#sk-container-id-1 pre{padding: 0;}#sk-container-id-1 div.sk-toggleable {background-color: white;}#sk-container-id-1 label.sk-toggleable__label {cursor: pointer;display: block;width: 100%;margin-bottom: 0;padding: 0.3em;box-sizing: border-box;text-align: center;}#sk-container-id-1 label.sk-toggleable__label-arrow:before {content: \"▸\";float: left;margin-right: 0.25em;color: #696969;}#sk-container-id-1 label.sk-toggleable__label-arrow:hover:before {color: black;}#sk-container-id-1 div.sk-estimator:hover label.sk-toggleable__label-arrow:before {color: black;}#sk-container-id-1 div.sk-toggleable__content {max-height: 0;max-width: 0;overflow: hidden;text-align: left;background-color: #f0f8ff;}#sk-container-id-1 div.sk-toggleable__content pre {margin: 0.2em;color: black;border-radius: 0.25em;background-color: #f0f8ff;}#sk-container-id-1 input.sk-toggleable__control:checked~div.sk-toggleable__content {max-height: 200px;max-width: 100%;overflow: auto;}#sk-container-id-1 input.sk-toggleable__control:checked~label.sk-toggleable__label-arrow:before {content: \"▾\";}#sk-container-id-1 div.sk-estimator input.sk-toggleable__control:checked~label.sk-toggleable__label {background-color: #d4ebff;}#sk-container-id-1 div.sk-label input.sk-toggleable__control:checked~label.sk-toggleable__label {background-color: #d4ebff;}#sk-container-id-1 input.sk-hidden--visually {border: 0;clip: rect(1px 1px 1px 1px);clip: rect(1px, 1px, 1px, 1px);height: 1px;margin: -1px;overflow: hidden;padding: 0;position: absolute;width: 1px;}#sk-container-id-1 div.sk-estimator {font-family: monospace;background-color: #f0f8ff;border: 1px dotted black;border-radius: 0.25em;box-sizing: border-box;margin-bottom: 0.5em;}#sk-container-id-1 div.sk-estimator:hover {background-color: #d4ebff;}#sk-container-id-1 div.sk-parallel-item::after {content: \"\";width: 100%;border-bottom: 1px solid gray;flex-grow: 1;}#sk-container-id-1 div.sk-label:hover label.sk-toggleable__label {background-color: #d4ebff;}#sk-container-id-1 div.sk-serial::before {content: \"\";position: absolute;border-left: 1px solid gray;box-sizing: border-box;top: 0;bottom: 0;left: 50%;z-index: 0;}#sk-container-id-1 div.sk-serial {display: flex;flex-direction: column;align-items: center;background-color: white;padding-right: 0.2em;padding-left: 0.2em;position: relative;}#sk-container-id-1 div.sk-item {position: relative;z-index: 1;}#sk-container-id-1 div.sk-parallel {display: flex;align-items: stretch;justify-content: center;background-color: white;position: relative;}#sk-container-id-1 div.sk-item::before, #sk-container-id-1 div.sk-parallel-item::before {content: \"\";position: absolute;border-left: 1px solid gray;box-sizing: border-box;top: 0;bottom: 0;left: 50%;z-index: -1;}#sk-container-id-1 div.sk-parallel-item {display: flex;flex-direction: column;z-index: 1;position: relative;background-color: white;}#sk-container-id-1 div.sk-parallel-item:first-child::after {align-self: flex-end;width: 50%;}#sk-container-id-1 div.sk-parallel-item:last-child::after {align-self: flex-start;width: 50%;}#sk-container-id-1 div.sk-parallel-item:only-child::after {width: 0;}#sk-container-id-1 div.sk-dashed-wrapped {border: 1px dashed gray;margin: 0 0.4em 0.5em 0.4em;box-sizing: border-box;padding-bottom: 0.4em;background-color: white;}#sk-container-id-1 div.sk-label label {font-family: monospace;font-weight: bold;display: inline-block;line-height: 1.2em;}#sk-container-id-1 div.sk-label-container {text-align: center;}#sk-container-id-1 div.sk-container {/* jupyter's `normalize.less` sets `[hidden] { display: none; }` but bootstrap.min.css set `[hidden] { display: none !important; }` so we also need the `!important` here to be able to override the default hidden behavior on the sphinx rendered scikit-learn.org. See: https://github.com/scikit-learn/scikit-learn/issues/21755 */display: inline-block !important;position: relative;}#sk-container-id-1 div.sk-text-repr-fallback {display: none;}</style><div id=\"sk-container-id-1\" class=\"sk-top-container\"><div class=\"sk-text-repr-fallback\"><pre>RandomForestClassifier()</pre><b>In a Jupyter environment, please rerun this cell to show the HTML representation or trust the notebook. <br />On GitHub, the HTML representation is unable to render, please try loading this page with nbviewer.org.</b></div><div class=\"sk-container\" hidden><div class=\"sk-item\"><div class=\"sk-estimator sk-toggleable\"><input class=\"sk-toggleable__control sk-hidden--visually\" id=\"sk-estimator-id-1\" type=\"checkbox\" checked><label for=\"sk-estimator-id-1\" class=\"sk-toggleable__label sk-toggleable__label-arrow\">RandomForestClassifier</label><div class=\"sk-toggleable__content\"><pre>RandomForestClassifier()</pre></div></div></div></div></div>"
      ],
      "text/plain": [
       "RandomForestClassifier()"
      ]
     },
     "execution_count": 60,
     "metadata": {},
     "output_type": "execute_result"
    }
   ],
   "source": [
    "# This line creates an instance of the RandomForestClassifier class from the ensemble module in scikit-learn.\n",
    "rf = RandomForestClassifier()\n",
    "# This line trains (fits) the RandomForestClassifier model on the entire dataset X and \n",
    "# corresponding target variable y using the fit method.\n",
    "rf.fit(X,y)"
   ]
  },
  {
   "cell_type": "code",
   "execution_count": 61,
   "id": "345c5589",
   "metadata": {},
   "outputs": [
    {
     "data": {
      "text/plain": [
       "['Bank_Customer_Churn_model']"
      ]
     },
     "execution_count": 61,
     "metadata": {},
     "output_type": "execute_result"
    }
   ],
   "source": [
    "# Import the joblib library\n",
    "import joblib\n",
    "# This line saves the trained RandomForestClassifier model (rf) to a file named 'Bank_Customer_Churn_model'. \n",
    "joblib.dump(rf,'Bank_Customer_Churn_model')"
   ]
  },
  {
   "cell_type": "code",
   "execution_count": 62,
   "id": "21d91c16",
   "metadata": {},
   "outputs": [],
   "source": [
    "# This line loads the previously saved model from the file 'Bank_Customer_Churn_model' and assigns it to the variable 'model'. \n",
    "# I can now use this model to make predictions on new data \n",
    "model = joblib.load('Bank_Customer_Churn_model')"
   ]
  },
  {
   "cell_type": "code",
   "execution_count": null,
   "id": "e8e80db6",
   "metadata": {},
   "outputs": [],
   "source": []
  }
 ],
 "metadata": {
  "kernelspec": {
   "display_name": "Python 3 (ipykernel)",
   "language": "python",
   "name": "python3"
  },
  "language_info": {
   "codemirror_mode": {
    "name": "ipython",
    "version": 3
   },
   "file_extension": ".py",
   "mimetype": "text/x-python",
   "name": "python",
   "nbconvert_exporter": "python",
   "pygments_lexer": "ipython3",
   "version": "3.11.5"
  }
 },
 "nbformat": 4,
 "nbformat_minor": 5
}
